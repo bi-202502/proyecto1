{
 "cells": [
  {
   "cell_type": "markdown",
   "id": "2c74c42d",
   "metadata": {},
   "source": [
    "# Proyecto 1: Analítica de textos"
   ]
  },
  {
   "cell_type": "markdown",
   "id": "6ac2dec6",
   "metadata": {},
   "source": [
    "## Miembros\n",
    "- Estudainte 3: Mariana Pineda Miranda - 202123330\n",
    "- Estudiante 2: Isaac David Bermúdez- 202014146\n",
    "- Estudiante 1: Joseph Linares Gutierrez - 202111887"
   ]
  },
  {
   "cell_type": "code",
   "execution_count": 18,
   "id": "852cf5b4",
   "metadata": {},
   "outputs": [],
   "source": [
    "import re\n",
    "import numpy as np\n",
    "import pandas as pd\n",
    "from collections import Counter\n",
    "\n",
    "import matplotlib.pyplot as plt\n",
    "import seaborn as sns\n",
    "\n",
    "from sklearn.model_selection import train_test_split\n",
    "from sklearn.feature_extraction.text import TfidfVectorizer\n",
    "from sklearn.linear_model import LogisticRegression\n",
    "from sklearn.metrics import f1_score, classification_report, roc_curve, auc\n",
    "from sklearn.naive_bayes import MultinomialNB\n",
    "from sklearn.metrics import accuracy_score, log_loss\n",
    "from sklearn.metrics import confusion_matrix, ConfusionMatrixDisplay\n",
    "from sklearn.preprocessing import label_binarize\n",
    "from sklearn.svm import LinearSVC\n",
    "from sklearn.calibration import CalibratedClassifierCV\n",
    "\n",
    "\n",
    "pd.set_option('display.max_columns', None)   # todas las columnas\n",
    "pd.set_option('display.width', None) "
   ]
  },
  {
   "cell_type": "markdown",
   "id": "0fb46986",
   "metadata": {},
   "source": [
    "## Perfilamiento y análisis de datos"
   ]
  },
  {
   "cell_type": "code",
   "execution_count": 19,
   "id": "22eb463b",
   "metadata": {},
   "outputs": [],
   "source": [
    "dataTrain = pd.read_csv(\"data/train.csv\")\n",
    "dataTest = pd.read_csv(\"data/test.csv\")"
   ]
  },
  {
   "cell_type": "code",
   "execution_count": 20,
   "id": "c38eade5",
   "metadata": {},
   "outputs": [
    {
     "name": "stdout",
     "output_type": "stream",
     "text": [
      "<class 'pandas.core.frame.DataFrame'>\n",
      "RangeIndex: 2424 entries, 0 to 2423\n",
      "Data columns (total 2 columns):\n",
      " #   Column  Non-Null Count  Dtype \n",
      "---  ------  --------------  ----- \n",
      " 0   textos  2424 non-null   object\n",
      " 1   labels  2424 non-null   int64 \n",
      "dtypes: int64(1), object(1)\n",
      "memory usage: 38.0+ KB\n"
     ]
    }
   ],
   "source": [
    "dataTrain.info()"
   ]
  },
  {
   "cell_type": "code",
   "execution_count": 21,
   "id": "12b58bf4",
   "metadata": {},
   "outputs": [
    {
     "data": {
      "text/plain": [
       "textos\n",
       "Aunque existen programas para convertirse específicamente en profesor de lengua materna, o en profesor de SAS (también solo a través del programa de profesor de asignaturas), no están integrados en otros programas de profesorado (Utbildningsdepartementet (Ministerio de Educación e Investigación), 2018,193]). En 2016, el Gobierno creó un comité especial para investigar este asunto. El informe del Comité incluía varias propuestas sobre la forma en que el SAS, la lengua materna y los conocimientos lingüísticos podrían tener una mayor presencia en los programas de formación del profesorado.                                                                                                                                                                                                                                                                                                                                                                                                                                                     1\n",
       "\"Aprendizaje\" y \"educación\" se consideran sinónimos de escolarización formal. Las organizaciones auxiliares, como las editoriales de educación, las juntas examinadoras y las organizaciones de formación de docentes, se consideran extensiones de los acuerdos establecidos por los gobiernos. Este marco de comprensión se ha vuelto cada vez más inadecuado.                                                                                                                                                                                                                                                                                                                                                                                                                                                                                                                                                                                                                                                                                                      1\n",
       "Para los niños más pequeños (bebés y niños pequeños), la capacitación especializada y práctica parece estar más fuertemente asociada con la calidad pedagógica y los resultados cognitivos y sociales. Los educadores de la primera infancia se encuentran con entornos sociales cada vez más complejos y se encuentran con una multiplicidad de antecedentes y experiencias familiares. Estos factores crean imperativos para adoptar nuevas pedagogías y prácticas organizacionales para acomodar este pluralismo (Elliott, 2006).                                                                                                                                                                                                                                                                                                                                                                                                                                                                                                                                  1\n",
       "Además, la formación de especialistas en medicina general también incluye tareas que requieren un conocimiento más profundo de problemas comunes de salud pública, incluida la salud mental (Cuestionario de salud mental de la OCDE, 2013). Dado que no hay control en la atención primaria para limitar el acceso a los servicios de salud (mental) especializados, muchos pacientes que necesitan tratamiento (para trastornos mentales graves en particular) pueden buscar atención de nivel especializado directamente. Los servicios de especialistas en psiquiatría se brindan principalmente en las salas ambulatorias de psiquiatría ubicadas en los hospitales generales.                                                                                                                                                                                                                                                                                                                                                                                   1\n",
       "En los países de la OCDE se tiende a pasar de los cursos obligatorios a los optativos, abiertos a estudiantes de distintas facultades y escuelas. Este planteamiento facilita la formación de equipos de estudiantes con distintas formaciones e intereses. El trabajo en equipos interdisciplinares permite a los individuos concentrarse en lo que mejor saben y les gusta y, al mismo tiempo, familiarizarse con nuevos conocimientos que pueden asociarse a una nueva forma de resolver un problema o crear un nuevo producto o servicio. No está claro hasta qué punto estos cursos utilizan métodos pedagógicos creativos y se adaptan a las necesidades de los estudiantes de grado, postgrado y licenciatura.                                                                                                                                                                                                                                                                                                                                                 1\n",
       "                                                                                                                                                                                                                                                                                                                                                                                                                                                                                                                                                                                                                                                                                                                                                                                                                                                                                                                                                                                                                                                                     ..\n",
       "Los únicos países que exigen un máster para enseñar preescolar son Inglaterra, Francia, Islandia e Italia. Este nivel de formación se exige para enseñar primaria en 11 de los 35 países de los que se dispone de datos, para enseñar estudios generales de primer ciclo de secundaria en 16 países y para enseñar segundo ciclo de secundaria en 22 países (véase la tabla D6.1 a, b, c y d). En cambio, casi el 40% de los profesores se sienten insuficientemente preparados para los aspectos pedagógicos de la enseñanza, que es la proporción más alta en cualquiera de los 34 países que participaron en la encuesta TALIS (véase el gráfico D6.a). En Francia, la proporción era inferior (76%), y aún más baja en los centros privados (sólo el 69%, frente a una media TALIS del 86%).                                                                                                                                                                                                                                                                      1\n",
       "El acuerdo de desempeño describe los objetivos clave que la institución debe esforzarse por lograr en el transcurso de un período de tres años. El ministerio se reúne con cada institución durante el año para discutir el progreso hacia el logro de estos objetivos. Se requiere que cada institución al final del año reporte datos a la Base de Datos de Estadísticas de Educación Superior (DBH) y presente un informe anual al ministerio. Esta información es utilizada por el ministerio para desarrollar un informe anual sobre el estado de la educación superior y para desarrollar una carta de retroalimentación anual para las instituciones sobre su desempeño anual (Larsen et al.,                                                                                                                                                                                                                                                                                                                                                                  1\n",
       "Según el Informe sobre el Consumo de Drogas en las Américas de 2015,3' se informó que la prevalencia anual de cannabis entre los estudiantes de secundaria en América Central fue más alta en Belice, con un 15,8 %, y más baja en Honduras, con un poco más del 1 %. centavo. Se informaron tasas de prevalencia de menos del 5 por ciento en Antigua y Barbuda, Barbados, Dominica, República Dominicana, El Salvador, Guyana, Haití, Honduras, Panamá, Saint Kitts y Nevis y San Vicente y las Granadinas. Según el Informe sobre el Consumo de Drogas en las Américas de 2015, la prevalencia anual del uso indebido de cocaína entre estudiantes de secundaria en el Caribe oscila entre el 0,5 % y un poco más del 2 %.                                                                                                                                                                                                                                                                                                                                         1\n",
       "De hecho, aunque Chile y Uruguay tienen índices de pobreza similares, la pobreza infantil en Chile es 1,8 veces mayor que la de la población adulta, mientras que en Uruguay es 3,1 veces mayor. Esto produciría tasas de pobreza infantil artificialmente altas. Esta línea representa el costo de satisfacer las necesidades básicas de una persona. Medir la pobreza de esta manera supone que el costo per cápita de satisfacer las necesidades básicas de un individuo no se ve afectado por el número de personas que viven en un hogar o por las características demográficas del hogar.                                                                                                                                                                                                                                                                                                                                                                                                                                                                       1\n",
       "De hecho, es probable que la designación de la universidad como universidad APEX aleje aún más a la institución del compromiso regional. Brindan acceso a un gran número de estudiantes y estudiantes graduados de la región, muchos de los cuales permanecen dentro de la región en busca de empleo. A través de la participación de los estudiantes en la región a través de pasantías, actividades de voluntariado y otras formas, las instituciones tienen un impacto en la región. Excepto por la información básica sobre el número de admisiones, matriculación y graduados, no se disponía de información sustantiva sobre la sucursal de UiTM en Penang, los dos politécnicos, los cuatro colegios comunitarios y las instituciones privadas en Penang y sobre las instituciones de educación superior en los otros tres estados. (Perlis, Kedah y Perak) en la Región Económica del Corredor Norte más grande. Por lo tanto, los hallazgos y observaciones se basan en una perspectiva limitada de las instituciones de educación superior en la región.    1\n",
       "Name: count, Length: 2424, dtype: int64"
      ]
     },
     "execution_count": 21,
     "metadata": {},
     "output_type": "execute_result"
    }
   ],
   "source": [
    "dataTrain['textos'].value_counts()"
   ]
  },
  {
   "cell_type": "code",
   "execution_count": 22,
   "id": "0f6f2da4",
   "metadata": {},
   "outputs": [
    {
     "data": {
      "text/plain": [
       "labels\n",
       "4    1025\n",
       "3     894\n",
       "1     505\n",
       "Name: count, dtype: int64"
      ]
     },
     "execution_count": 22,
     "metadata": {},
     "output_type": "execute_result"
    }
   ],
   "source": [
    "dataTrain['labels'].value_counts()"
   ]
  },
  {
   "cell_type": "code",
   "execution_count": 23,
   "id": "3462febf",
   "metadata": {},
   "outputs": [
    {
     "data": {
      "text/plain": [
       "count    2424.000000\n",
       "mean      683.223185\n",
       "std       223.563695\n",
       "min       303.000000\n",
       "25%       513.000000\n",
       "50%       647.000000\n",
       "75%       809.250000\n",
       "max      1492.000000\n",
       "Name: textos, dtype: float64"
      ]
     },
     "execution_count": 23,
     "metadata": {},
     "output_type": "execute_result"
    }
   ],
   "source": [
    "dataTrain['textos'].str.len().describe()"
   ]
  },
  {
   "cell_type": "code",
   "execution_count": 24,
   "id": "404373c2",
   "metadata": {},
   "outputs": [
    {
     "data": {
      "text/plain": [
       "textos    0\n",
       "labels    0\n",
       "dtype: int64"
      ]
     },
     "execution_count": 24,
     "metadata": {},
     "output_type": "execute_result"
    }
   ],
   "source": [
    "dataTrain.isnull().sum()"
   ]
  },
  {
   "cell_type": "markdown",
   "id": "0a4b2bd5",
   "metadata": {},
   "source": [
    "## Tratamiento de Datos"
   ]
  },
  {
   "cell_type": "markdown",
   "id": "f2cac7d4",
   "metadata": {},
   "source": [
    "#### Descarga de las stopwords en español"
   ]
  },
  {
   "cell_type": "code",
   "execution_count": 25,
   "id": "b15edc8f",
   "metadata": {},
   "outputs": [
    {
     "name": "stderr",
     "output_type": "stream",
     "text": [
      "[nltk_data] Downloading package stopwords to\n",
      "[nltk_data]     /Users/maripinemira/nltk_data...\n",
      "[nltk_data]   Package stopwords is already up-to-date!\n"
     ]
    },
    {
     "data": {
      "text/plain": [
       "True"
      ]
     },
     "execution_count": 25,
     "metadata": {},
     "output_type": "execute_result"
    }
   ],
   "source": [
    "import nltk\n",
    "\n",
    "nltk.download('stopwords')"
   ]
  },
  {
   "cell_type": "code",
   "execution_count": 26,
   "id": "3f1cd3a2",
   "metadata": {},
   "outputs": [
    {
     "name": "stdout",
     "output_type": "stream",
     "text": [
      "313\n",
      "['de', 'la', 'que', 'el', 'en', 'y', 'a', 'los', 'del', 'se', 'las', 'por', 'un', 'para', 'con', 'no', 'una', 'su', 'al', 'lo', 'como', 'más', 'pero', 'sus', 'le', 'ya', 'o', 'este', 'sí', 'porque', 'esta', 'entre', 'cuando', 'muy', 'sin', 'sobre', 'también', 'me', 'hasta', 'hay', 'donde', 'quien', 'desde', 'todo', 'nos', 'durante', 'todos', 'uno', 'les', 'ni', 'contra', 'otros', 'ese', 'eso', 'ante', 'ellos', 'e', 'esto', 'mí', 'antes', 'algunos', 'qué', 'unos', 'yo', 'otro', 'otras', 'otra', 'él', 'tanto', 'esa', 'estos', 'mucho', 'quienes', 'nada', 'muchos', 'cual', 'poco', 'ella', 'estar', 'estas', 'algunas', 'algo', 'nosotros', 'mi', 'mis', 'tú', 'te', 'ti', 'tu', 'tus', 'ellas', 'nosotras', 'vosotros', 'vosotras', 'os', 'mío', 'mía', 'míos', 'mías', 'tuyo', 'tuya', 'tuyos', 'tuyas', 'suyo', 'suya', 'suyos', 'suyas', 'nuestro', 'nuestra', 'nuestros', 'nuestras', 'vuestro', 'vuestra', 'vuestros', 'vuestras', 'esos', 'esas', 'estoy', 'estás', 'está', 'estamos', 'estáis', 'están', 'esté', 'estés', 'estemos', 'estéis', 'estén', 'estaré', 'estarás', 'estará', 'estaremos', 'estaréis', 'estarán', 'estaría', 'estarías', 'estaríamos', 'estaríais', 'estarían', 'estaba', 'estabas', 'estábamos', 'estabais', 'estaban', 'estuve', 'estuviste', 'estuvo', 'estuvimos', 'estuvisteis', 'estuvieron', 'estuviera', 'estuvieras', 'estuviéramos', 'estuvierais', 'estuvieran', 'estuviese', 'estuvieses', 'estuviésemos', 'estuvieseis', 'estuviesen', 'estando', 'estado', 'estada', 'estados', 'estadas', 'estad', 'he', 'has', 'ha', 'hemos', 'habéis', 'han', 'haya', 'hayas', 'hayamos', 'hayáis', 'hayan', 'habré', 'habrás', 'habrá', 'habremos', 'habréis', 'habrán', 'habría', 'habrías', 'habríamos', 'habríais', 'habrían', 'había', 'habías', 'habíamos', 'habíais', 'habían', 'hube', 'hubiste', 'hubo', 'hubimos', 'hubisteis', 'hubieron', 'hubiera', 'hubieras', 'hubiéramos', 'hubierais', 'hubieran', 'hubiese', 'hubieses', 'hubiésemos', 'hubieseis', 'hubiesen', 'habiendo', 'habido', 'habida', 'habidos', 'habidas', 'soy', 'eres', 'es', 'somos', 'sois', 'son', 'sea', 'seas', 'seamos', 'seáis', 'sean', 'seré', 'serás', 'será', 'seremos', 'seréis', 'serán', 'sería', 'serías', 'seríamos', 'seríais', 'serían', 'era', 'eras', 'éramos', 'erais', 'eran', 'fui', 'fuiste', 'fue', 'fuimos', 'fuisteis', 'fueron', 'fuera', 'fueras', 'fuéramos', 'fuerais', 'fueran', 'fuese', 'fueses', 'fuésemos', 'fueseis', 'fuesen', 'sintiendo', 'sentido', 'sentida', 'sentidos', 'sentidas', 'siente', 'sentid', 'tengo', 'tienes', 'tiene', 'tenemos', 'tenéis', 'tienen', 'tenga', 'tengas', 'tengamos', 'tengáis', 'tengan', 'tendré', 'tendrás', 'tendrá', 'tendremos', 'tendréis', 'tendrán', 'tendría', 'tendrías', 'tendríamos', 'tendríais', 'tendrían', 'tenía', 'tenías', 'teníamos', 'teníais', 'tenían', 'tuve', 'tuviste', 'tuvo', 'tuvimos', 'tuvisteis', 'tuvieron', 'tuviera', 'tuvieras', 'tuviéramos', 'tuvierais', 'tuvieran', 'tuviese', 'tuvieses', 'tuviésemos', 'tuvieseis', 'tuviesen', 'teniendo', 'tenido', 'tenida', 'tenidos', 'tenidas', 'tened']\n"
     ]
    }
   ],
   "source": [
    "from nltk.corpus import stopwords\n",
    "\n",
    "# Lista de stopwords en español\n",
    "stopwordsInSpanish = stopwords.words('spanish')\n",
    "\n",
    "print(len(stopwordsInSpanish))\n",
    "print(stopwordsInSpanish)"
   ]
  },
  {
   "cell_type": "markdown",
   "id": "8a529ee9",
   "metadata": {},
   "source": [
    "#### Limpieza y vectorización de datos"
   ]
  },
  {
   "cell_type": "code",
   "execution_count": 27,
   "id": "adfce306",
   "metadata": {},
   "outputs": [],
   "source": [
    "def limpiar_texto(texto: str) -> str:\n",
    "    texto = texto.lower()                               # Convertir a minusculas\n",
    "    texto = re.sub(r'[^a-záéíóúüñ\\s]', '', texto)       # Eliminar caracteres especiales y numeros\n",
    "    return texto\n",
    "\n",
    "dataTrain['texto_limpio'] = dataTrain['textos'].apply(limpiar_texto)"
   ]
  },
  {
   "cell_type": "code",
   "execution_count": 28,
   "id": "ef85b1ea",
   "metadata": {},
   "outputs": [
    {
     "name": "stdout",
     "output_type": "stream",
     "text": [
      "[('de', 22276), ('la', 12254), ('en', 9210), ('los', 8551), ('y', 8101), ('el', 6874), ('que', 5043), ('a', 4768), ('las', 4651), ('para', 3491), ('se', 2897), ('del', 2754), ('un', 2446), ('por', 2237), ('con', 2151), ('una', 2135), ('más', 1797), ('es', 1358), ('como', 1294), ('no', 1226), ('al', 1153), ('salud', 1108), ('pobreza', 1020), ('educación', 995), ('países', 963), ('entre', 962), ('atención', 900), ('o', 798), ('también', 767), ('estudiantes', 742), ('sobre', 674), ('su', 671), ('lo', 629), ('son', 604), ('ocde', 587), ('escuelas', 586), ('años', 560), ('servicios', 549), ('este', 533), ('ha', 523), ('nivel', 521), ('sistema', 508), ('sus', 500), ('sin', 499), ('niños', 481), ('personas', 457), ('pueden', 453), ('calidad', 447), ('han', 437), ('desarrollo', 431)]\n"
     ]
    }
   ],
   "source": [
    "texto_limpio = ' '.join(dataTrain['texto_limpio']).split()\n",
    "\n",
    "counter = Counter(texto_limpio) # Contar frecuencia\n",
    "print(counter.most_common(50))"
   ]
  },
  {
   "cell_type": "markdown",
   "id": "dec0fa5d",
   "metadata": {},
   "source": [
    "#### Adicionar y eliminar stopwords"
   ]
  },
  {
   "cell_type": "code",
   "execution_count": 29,
   "id": "dae00c0b",
   "metadata": {},
   "outputs": [
    {
     "name": "stdout",
     "output_type": "stream",
     "text": [
      "315\n",
      "['de', 'la', 'que', 'el', 'en', 'y', 'a', 'los', 'del', 'se', 'las', 'por', 'un', 'para', 'con', 'una', 'su', 'al', 'lo', 'como', 'más', 'pero', 'sus', 'le', 'ya', 'o', 'este', 'sí', 'porque', 'esta', 'entre', 'cuando', 'muy', 'sobre', 'también', 'me', 'hasta', 'donde', 'quien', 'desde', 'todo', 'nos', 'durante', 'todos', 'uno', 'les', 'contra', 'otros', 'ese', 'eso', 'ante', 'ellos', 'e', 'esto', 'mí', 'antes', 'algunos', 'qué', 'unos', 'yo', 'otro', 'otras', 'otra', 'él', 'tanto', 'esa', 'estos', 'mucho', 'quienes', 'muchos', 'cual', 'poco', 'ella', 'estar', 'estas', 'algunas', 'algo', 'nosotros', 'mi', 'mis', 'tú', 'te', 'ti', 'tu', 'tus', 'ellas', 'nosotras', 'vosotros', 'vosotras', 'os', 'mío', 'mía', 'míos', 'mías', 'tuyo', 'tuya', 'tuyos', 'tuyas', 'suyo', 'suya', 'suyos', 'suyas', 'nuestro', 'nuestra', 'nuestros', 'nuestras', 'vuestro', 'vuestra', 'vuestros', 'vuestras', 'esos', 'esas', 'estoy', 'estás', 'está', 'estamos', 'estáis', 'están', 'esté', 'estés', 'estemos', 'estéis', 'estén', 'estaré', 'estarás', 'estará', 'estaremos', 'estaréis', 'estarán', 'estaría', 'estarías', 'estaríamos', 'estaríais', 'estarían', 'estaba', 'estabas', 'estábamos', 'estabais', 'estaban', 'estuve', 'estuviste', 'estuvo', 'estuvimos', 'estuvisteis', 'estuvieron', 'estuviera', 'estuvieras', 'estuviéramos', 'estuvierais', 'estuvieran', 'estuviese', 'estuvieses', 'estuviésemos', 'estuvieseis', 'estuviesen', 'estando', 'estado', 'estada', 'estados', 'estadas', 'estad', 'he', 'has', 'ha', 'hemos', 'habéis', 'han', 'haya', 'hayas', 'hayamos', 'hayáis', 'hayan', 'habré', 'habrás', 'habrá', 'habremos', 'habréis', 'habrán', 'habría', 'habrías', 'habríamos', 'habríais', 'habrían', 'habías', 'habíamos', 'habíais', 'habían', 'hube', 'hubiste', 'hubimos', 'hubisteis', 'hubieron', 'hubiera', 'hubieras', 'hubiéramos', 'hubierais', 'hubieran', 'hubiese', 'hubieses', 'hubiésemos', 'hubieseis', 'hubiesen', 'habiendo', 'habido', 'habida', 'habidos', 'habidas', 'soy', 'eres', 'es', 'somos', 'sois', 'son', 'sea', 'seas', 'seamos', 'seáis', 'sean', 'seré', 'serás', 'será', 'seremos', 'seréis', 'serán', 'sería', 'serías', 'seríamos', 'seríais', 'serían', 'era', 'eras', 'éramos', 'erais', 'eran', 'fui', 'fuiste', 'fue', 'fuimos', 'fuisteis', 'fueron', 'fuera', 'fueras', 'fuéramos', 'fuerais', 'fueran', 'fuese', 'fueses', 'fuésemos', 'fueseis', 'fuesen', 'sintiendo', 'sentido', 'sentida', 'sentidos', 'sentidas', 'siente', 'sentid', 'tengo', 'tienes', 'tiene', 'tenemos', 'tenéis', 'tienen', 'tenga', 'tengas', 'tengamos', 'tengáis', 'tengan', 'tendré', 'tendrás', 'tendrá', 'tendremos', 'tendréis', 'tendrán', 'tendría', 'tendrías', 'tendríamos', 'tendríais', 'tendrían', 'tenía', 'tenías', 'teníamos', 'teníais', 'tenían', 'tuve', 'tuviste', 'tuvo', 'tuvimos', 'tuvisteis', 'tuvieron', 'tuviera', 'tuvieras', 'tuviéramos', 'tuvierais', 'tuvieran', 'tuviese', 'tuvieses', 'tuviésemos', 'tuvieseis', 'tuviesen', 'teniendo', 'tenido', 'tenida', 'tenidos', 'tenidas', 'tened', 'y', 'e', 'además', 'también', 'incluso', 'más', 'pero', 'aunque', 'sino']\n"
     ]
    }
   ],
   "source": [
    "# Listas de palabras a conservar (eliminar de stopwords)\n",
    "palabras_de_Negacion = ['no', 'ni', 'nunca', 'jamás', 'tampoco',\n",
    "                        'sin', 'ningún', 'ninguna', 'ninguno', \n",
    "                        'ningunos', 'ningunas', 'nada', 'nadie',\n",
    "                        'hay', 'había', 'hubo', 'falta', 'faltan',\n",
    "                        'faltar', 'carecer', 'carecen', 'carencia', \n",
    "                        'carencias', 'escasez', 'ausencia', 'inaccesible', 'inaccesibilidad']\n",
    "\n",
    "palabras_de_poder = ['puedo', 'puede', 'pueden', 'podemos', 'podría', 'podrían']\n",
    "\n",
    "# Listas de palabras a agregar (adicionar a stopwords)\n",
    "palabras_conectoras = ['y', 'e', 'además', 'también', 'incluso', \n",
    "                       'más', 'pero', 'aunque', 'sino']\n",
    "\n",
    "\n",
    "stopwordsInSpanish = [w for w in stopwordsInSpanish if w not in palabras_de_Negacion and w not in palabras_de_poder]\n",
    "stopwordsInSpanish.extend(palabras_conectoras)\n",
    "\n",
    "print(len(stopwordsInSpanish))\n",
    "print(stopwordsInSpanish)"
   ]
  },
  {
   "cell_type": "code",
   "execution_count": 30,
   "id": "01c05087",
   "metadata": {},
   "outputs": [],
   "source": [
    "def limpiar_stopword(w):\n",
    "    return re.sub(r'[^a-záéíóúüñ\\s]', '', w.lower())\n",
    "\n",
    "stopwordsInSpanish = [limpiar_texto(w) for w in stopwordsInSpanish]\n",
    "\n",
    "vectorizer = TfidfVectorizer(stop_words = stopwordsInSpanish, max_features=5000)\n",
    "X = vectorizer.fit_transform(dataTrain['texto_limpio'])\n",
    "y = dataTrain['labels']"
   ]
  },
  {
   "cell_type": "markdown",
   "id": "79fd1d0e",
   "metadata": {},
   "source": [
    "## Logistic Regression - Joseph Linares"
   ]
  },
  {
   "cell_type": "code",
   "execution_count": 31,
   "id": "7eef2aa7",
   "metadata": {},
   "outputs": [
    {
     "name": "stdout",
     "output_type": "stream",
     "text": [
      "F1-score promedio: 0.9626538895723741\n",
      "              precision    recall  f1-score   support\n",
      "\n",
      "           1       0.99      0.90      0.94       101\n",
      "           3       0.95      0.97      0.96       179\n",
      "           4       0.96      0.99      0.97       205\n",
      "\n",
      "    accuracy                           0.96       485\n",
      "   macro avg       0.97      0.95      0.96       485\n",
      "weighted avg       0.96      0.96      0.96       485\n",
      "\n"
     ]
    }
   ],
   "source": [
    "X_train, X_val, y_train, y_val = train_test_split(X, y, test_size=0.2, random_state=42, stratify=y)\n",
    "\n",
    "clf = LogisticRegression(max_iter=1000)\n",
    "clf.fit(X_train, y_train)\n",
    "y_pred = clf.predict(X_val)\n",
    "\n",
    "print(\"F1-score promedio:\", f1_score(y_val, y_pred, average='weighted'))\n",
    "print(classification_report(y_val, y_pred))"
   ]
  },
  {
   "cell_type": "code",
   "execution_count": 32,
   "id": "95833757",
   "metadata": {},
   "outputs": [
    {
     "data": {
      "image/png": "[encoded data removed]",
      "text/plain": [
       "<Figure size 640x480 with 2 Axes>"
      ]
     },
     "metadata": {},
     "output_type": "display_data"
    }
   ],
   "source": [
    "cm = confusion_matrix(y_val, y_pred, labels=clf.classes_)\n",
    "disp = ConfusionMatrixDisplay(confusion_matrix=cm, display_labels=clf.classes_)\n",
    "disp.plot(cmap='Blues')\n",
    "plt.title(\"Matriz de confusión\")\n",
    "plt.show()"
   ]
  },
  {
   "cell_type": "markdown",
   "id": "ff3702b7",
   "metadata": {},
   "source": [
    "## Naive Bayes - Mariana Pineda Miranda\n"
   ]
  },
  {
   "cell_type": "code",
   "execution_count": 33,
   "id": "b9f382a5",
   "metadata": {},
   "outputs": [
    {
     "name": "stdout",
     "output_type": "stream",
     "text": [
      "TEST DATA\n",
      "Accuracy: 0.9567010309278351\n",
      "\n",
      "Classification Report:\n",
      "               precision    recall  f1-score   support\n",
      "\n",
      "           1       0.98      0.85      0.91       112\n",
      "           3       0.95      0.99      0.97       168\n",
      "           4       0.95      0.99      0.97       205\n",
      "\n",
      "    accuracy                           0.96       485\n",
      "   macro avg       0.96      0.94      0.95       485\n",
      "weighted avg       0.96      0.96      0.96       485\n",
      "\n",
      "\n",
      "Confusion Matrix:\n",
      " [[ 95   7  10]\n",
      " [  1 166   1]\n",
      " [  1   1 203]]\n",
      "\n",
      "\n",
      "TRAIN DATA\n",
      "Accuracy: 0.9804022692109334\n",
      "\n",
      "Classification Report:\n",
      "               precision    recall  f1-score   support\n",
      "\n",
      "           1       0.99      0.94      0.97       393\n",
      "           3       0.98      0.98      0.98       726\n",
      "           4       0.97      1.00      0.99       820\n",
      "\n",
      "    accuracy                           0.98      1939\n",
      "   macro avg       0.98      0.97      0.98      1939\n",
      "weighted avg       0.98      0.98      0.98      1939\n",
      "\n",
      "\n",
      "Confusion Matrix:\n",
      " [[370  11  12]\n",
      " [  3 712  11]\n",
      " [  0   1 819]]\n"
     ]
    }
   ],
   "source": [
    "#Divido mis datos entre test y train\n",
    "X_train, X_test, y_train, y_test = train_test_split(X, y, test_size=0.2, random_state = 42)\n",
    "\n",
    "#Algoritmo de Naive Bayes\n",
    "naive_b = MultinomialNB()\n",
    "naive_b.fit(X_train, y_train)\n",
    "\n",
    "y_pred = naive_b.predict(X_test)\n",
    "y_pred_train = naive_b.predict(X_train)\n",
    "\n",
    "print(\"TEST DATA\")\n",
    "print(\"Accuracy:\", accuracy_score(y_test, y_pred))\n",
    "print(\"\\nClassification Report:\\n\", classification_report(y_test, y_pred))\n",
    "print(\"\\nConfusion Matrix:\\n\", confusion_matrix(y_test, y_pred))\n",
    "print(\"\\n\")\n",
    "\n",
    "print(\"TRAIN DATA\")\n",
    "print(\"Accuracy:\", accuracy_score(y_train, y_pred_train))\n",
    "print(\"\\nClassification Report:\\n\", classification_report(y_train, y_pred_train))\n",
    "print(\"\\nConfusion Matrix:\\n\", confusion_matrix(y_train, y_pred_train))\n",
    "\n",
    "\n"
   ]
  },
  {
   "cell_type": "markdown",
   "id": "37e59d4f",
   "metadata": {},
   "source": [
    "## Linear SVM - Mariana Pineda"
   ]
  },
  {
   "cell_type": "code",
   "execution_count": 34,
   "id": "216e871a",
   "metadata": {},
   "outputs": [
    {
     "name": "stdout",
     "output_type": "stream",
     "text": [
      "TEST DATA\n",
      "Accuracy: 0.9753\n",
      "F1-macro: 0.9728\n",
      "\n",
      "Classification Report:\n",
      "               precision    recall  f1-score   support\n",
      "\n",
      "           1       0.96      0.96      0.96       112\n",
      "           3       0.96      0.98      0.97       168\n",
      "           4       0.99      0.98      0.99       205\n",
      "\n",
      "    accuracy                           0.98       485\n",
      "   macro avg       0.97      0.97      0.97       485\n",
      "weighted avg       0.98      0.98      0.98       485\n",
      "\n",
      "\n",
      "Confusion Matrix:\n",
      " [[107   3   2]\n",
      " [  3 165   0]\n",
      " [  1   3 201]]\n",
      "\n",
      "\n",
      "TRAIN DATA\n",
      "Accuracy: 1.0\n",
      "\n",
      "Classification Report:\n",
      "               precision    recall  f1-score   support\n",
      "\n",
      "           1       1.00      1.00      1.00       393\n",
      "           3       1.00      1.00      1.00       726\n",
      "           4       1.00      1.00      1.00       820\n",
      "\n",
      "    accuracy                           1.00      1939\n",
      "   macro avg       1.00      1.00      1.00      1939\n",
      "weighted avg       1.00      1.00      1.00      1939\n",
      "\n",
      "\n",
      "Confusion Matrix:\n",
      " [[393   0   0]\n",
      " [  0 726   0]\n",
      " [  0   0 820]]\n"
     ]
    }
   ],
   "source": [
    "base = LinearSVC()\n",
    "clf = CalibratedClassifierCV(estimator=base, method=\"sigmoid\", cv=5)\n",
    "\n",
    "clf.fit(X_train, y_train)\n",
    "\n",
    "y_pred = clf.predict(X_test)\n",
    "y_pred_train = clf.predict(X_train)\n",
    "y_proba = clf.predict_proba(X_test)\n",
    "\n",
    "acc = accuracy_score(y_test, y_pred)\n",
    "f1m = f1_score(y_test, y_pred, average=\"macro\")\n",
    "\n",
    "print(\"TEST DATA\")\n",
    "print(f\"Accuracy: {acc:.4f}\")\n",
    "print(f\"F1-macro: {f1m:.4f}\")\n",
    "print(\"\\nClassification Report:\\n\", classification_report(y_test, y_pred))\n",
    "print(\"\\nConfusion Matrix:\\n\", confusion_matrix(y_test, y_pred))\n",
    "print(\"\\n\")\n",
    "\n",
    "print(\"TRAIN DATA\")\n",
    "print(\"Accuracy:\", accuracy_score(y_train, y_pred_train))\n",
    "print(\"\\nClassification Report:\\n\", classification_report(y_train, y_pred_train))\n",
    "print(\"\\nConfusion Matrix:\\n\", confusion_matrix(y_train, y_pred_train))"
   ]
  }
 ],
 "metadata": {
  "kernelspec": {
   "display_name": "Python 3",
   "language": "python",
   "name": "python3"
  },
  "language_info": {
   "codemirror_mode": {
    "name": "ipython",
    "version": 3
   },
   "file_extension": ".py",
   "mimetype": "text/x-python",
   "name": "python",
   "nbconvert_exporter": "python",
   "pygments_lexer": "ipython3",
   "version": "3.9.6"
  }
 },
 "nbformat": 4,
 "nbformat_minor": 5
}
