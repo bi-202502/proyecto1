{
 "cells": [
  {
   "cell_type": "markdown",
   "id": "2c74c42d",
   "metadata": {},
   "source": [
    "# Proyecto 1: Analítica de textos"
   ]
  },
  {
   "cell_type": "markdown",
   "id": "6ac2dec6",
   "metadata": {},
   "source": [
    "## Miembros\n",
    "- Estudainte 3: Mariana Pineda Miranda - 202123330\n",
    "- Estudiante 2: Isaac David Bermúdez- 202014146\n",
    "- Estudiante 1: Joseph Linares Gutierrez - 202111887"
   ]
  },
  {
   "cell_type": "code",
   "execution_count": 161,
   "id": "852cf5b4",
   "metadata": {},
   "outputs": [],
   "source": [
    "import re\n",
    "import numpy as np\n",
    "import pandas as pd\n",
    "from collections import Counter\n",
    "\n",
    "import matplotlib.pyplot as plt\n",
    "import seaborn as sns\n",
    "\n",
    "from sklearn.model_selection import train_test_split\n",
    "from sklearn.feature_extraction.text import TfidfVectorizer\n",
    "from sklearn.linear_model import LogisticRegression\n",
    "from sklearn.metrics import f1_score, classification_report, roc_curve, auc\n",
    "\n",
    "\n",
    "from sklearn.metrics import confusion_matrix, ConfusionMatrixDisplay\n",
    "from sklearn.preprocessing import label_binarize\n",
    "\n",
    "\n",
    "pd.set_option('display.max_columns', None)   # todas las columnas\n",
    "pd.set_option('display.width', None) "
   ]
  },
  {
   "cell_type": "markdown",
   "id": "0fb46986",
   "metadata": {},
   "source": [
    "## Perfilamiento y análisis de datos"
   ]
  },
  {
   "cell_type": "code",
   "execution_count": 162,
   "id": "22eb463b",
   "metadata": {},
   "outputs": [],
   "source": [
    "dataTrain = pd.read_csv(\"data/train.csv\")\n",
    "dataTest = pd.read_csv(\"data/test.csv\")"
   ]
  },
  {
   "cell_type": "code",
   "execution_count": 163,
   "id": "c38eade5",
   "metadata": {},
   "outputs": [
    {
     "name": "stdout",
     "output_type": "stream",
     "text": [
      "<class 'pandas.core.frame.DataFrame'>\n",
      "RangeIndex: 2424 entries, 0 to 2423\n",
      "Data columns (total 2 columns):\n",
      " #   Column  Non-Null Count  Dtype \n",
      "---  ------  --------------  ----- \n",
      " 0   textos  2424 non-null   object\n",
      " 1   labels  2424 non-null   int64 \n",
      "dtypes: int64(1), object(1)\n",
      "memory usage: 38.0+ KB\n"
     ]
    }
   ],
   "source": [
    "dataTrain.info()"
   ]
  },
  {
   "cell_type": "code",
   "execution_count": 164,
   "id": "12b58bf4",
   "metadata": {},
   "outputs": [
    {
     "data": {
      "text/plain": [
       "\"Aprendizaje\" y \"educación\" se consideran sinónimos de escolarización formal. Las organizaciones auxiliares, como las editoriales de educación, las juntas examinadoras y las organizaciones de formación de docentes, se consideran extensiones de los acuerdos establecidos por los gobiernos. Este marco de comprensión se ha vuelto cada vez más inadecuado.                                                                                                                                                                                                                                                                                                                                                                                                                       1\n",
       "El arrendamiento de grandes porciones de estas tierras consuetudinarias a propietarios privados afecta a la seguridad alimentaria y a todas las actividades de subsistencia de quienes antes dependían de estos recursos naturales. Los desposeídos se instalan entonces en zonas urbanas cercanas a la capital. El 21% de los participantes realizaba trabajo voluntario no remunerado en una iglesia u ONG. Sólo el 30% tenía un empleo asalariado regular, y la mayoría eran hombres. El 25% declaró tener una cuenta bancaria y el 25% dijo que había un banco cerca de su casa. Estas últimas consideraciones son muy importantes desde el punto de vista logístico a la hora de decidir si las intervenciones de protección social deben ser o no transferencias de efectivo.    1\n",
       "El gobierno australiano trabaja con las autoridades educativas gubernamentales y no gubernamentales estatales y territoriales para garantizar un alto nivel continuo de enseñanza y aprendizaje en las escuelas australianas. La mayor parte de la financiación pública de las universidades la proporciona el gobierno australiano, según las normas contenidas en la Ley de Apoyo a la Educación Superior de 2003. Los gobiernos estatales y territoriales pueden acreditar otras instituciones terciarias (a través de una autoridad de acreditación), pero las instituciones deben estar incluidas en el Marco de Cualificaciones de Australia. Regístrese antes de que puedan otorgar calificaciones a los estudiantes.                                                           1\n",
       "La asistencia a una escuela especial requiere una recomendación de una autoridad apropiada y el consentimiento de los padres. La Ley de Educación de 2005 hace hincapié en una mayor integración de los estudiantes con necesidades especiales en las escuelas ordinarias. Las escuelas preescolares y básicas son administradas por municipios, mientras que las escuelas secundarias son administradas por regiones.                                                                                                                                                                                                                                                                                                                                                                 1\n",
       "Estos permitirían a los países consolidar los programas existentes y ampliar el alcance y la cobertura del sistema. Dado que los pobres de las zonas rurales obtienen la mayor parte de sus ingresos de las actividades agrícolas, las políticas para facilitar el acceso de los pequeños productores a la tierra, los insumos agrícolas, las finanzas, los servicios de extensión y los mercados contribuirían a mejorar la seguridad alimentaria y reducir la pobreza. Tales políticas también promueven negocios no agrícolas y oportunidades de empleo.                                                                                                                                                                                                                            1\n",
       "                                                                                                                                                                                                                                                                                                                                                                                                                                                                                                                                                                                                                                                                                                                                                                                      ..\n",
       "Existe una tendencia a introducir una mayor responsabilidad por la calidad y la eficiencia en los sistemas de pago a los proveedores, lo que generalmente requiere una combinación de pago por servicio, pago por resultados y pagos capitados. La combinación óptima de estos sistemas, sin embargo, debe ser decidida por las autoridades por motivos prácticos. Se acogen con satisfacción las medidas adoptadas para equiparar los puntos de los pacientes ambulatorios y los grupos homogéneos de enfermedades (GHD), de modo que los tratamientos terapéuticamente equivalentes se recompensen por igual independientemente del entorno en el que se ofrezcan los servicios sanitarios.                                                                                          1\n",
       "Las enfermedades diarreicas, como la disentería, la fiebre tifoidea y otras enfermedades, son una de las causas de morbilidad. Una zona consiste en un círculo de 50 a 100 m de diámetro alrededor del manantial, dependiendo de su caudal. Sin embargo, en varios casos, la zona de protección no está bien definida e implementada y las fuentes de contaminación pueden estar presentes.                                                                                                                                                                                                                                                                                                                                                                                            1\n",
       "Sin embargo, gracias al impresionante crecimiento de varios países emergentes de la región, la incidencia de la pobreza se ha reducido a más de la mitad, dejando a menos del 20 por ciento de la población en la pobreza extrema en 2011. La población mundial en general vive en la pobreza extrema ha disminuido en aproximadamente mil millones de personas entre 1990 y 2011. Asia y el Pacífico ha liderado el éxito mundial en la reducción de la pobreza en las últimas dos décadas. En otras palabras, la población que vive en la pobreza extrema en la región se redujo de alrededor de 1600 millones en 1990 a 700 millones en 2011, a pesar de un crecimiento demográfico general de aproximadamente 900 millones en el mismo período.                                    1\n",
       "Los beneficios potenciales del aprendizaje contextualizado y la integración de académicos y CTE son ampliamente reconocidos y el enfoque integrado se usa ampliamente en los programas de CTE. Una serie de instrumentos de política están diseñados para garantizar sólidas habilidades académicas entre todos los estudiantes, como la Evaluación de conocimientos y habilidades de Texas. Los datos se utilizan para monitorear el desempeño entre diferentes grupos de estudiantes y enfocar las intervenciones en las escuelas con un desempeño insatisfactorio.                                                                                                                                                                                                                  1\n",
       "Aunque existen programas para convertirse específicamente en profesor de lengua materna, o en profesor de SAS (también solo a través del programa de profesor de asignaturas), no están integrados en otros programas de profesorado (Utbildningsdepartementet (Ministerio de Educación e Investigación), 2018,193]). En 2016, el Gobierno creó un comité especial para investigar este asunto. El informe del Comité incluía varias propuestas sobre la forma en que el SAS, la lengua materna y los conocimientos lingüísticos podrían tener una mayor presencia en los programas de formación del profesorado.                                                                                                                                                                      1\n",
       "Name: textos, Length: 2424, dtype: int64"
      ]
     },
     "execution_count": 164,
     "metadata": {},
     "output_type": "execute_result"
    }
   ],
   "source": [
    "dataTrain['textos'].value_counts()"
   ]
  },
  {
   "cell_type": "code",
   "execution_count": 165,
   "id": "0f6f2da4",
   "metadata": {},
   "outputs": [
    {
     "data": {
      "text/plain": [
       "4    1025\n",
       "3     894\n",
       "1     505\n",
       "Name: labels, dtype: int64"
      ]
     },
     "execution_count": 165,
     "metadata": {},
     "output_type": "execute_result"
    }
   ],
   "source": [
    "dataTrain['labels'].value_counts()"
   ]
  },
  {
   "cell_type": "code",
   "execution_count": 166,
   "id": "3462febf",
   "metadata": {},
   "outputs": [
    {
     "data": {
      "text/plain": [
       "count    2424.000000\n",
       "mean      683.223185\n",
       "std       223.563695\n",
       "min       303.000000\n",
       "25%       513.000000\n",
       "50%       647.000000\n",
       "75%       809.250000\n",
       "max      1492.000000\n",
       "Name: textos, dtype: float64"
      ]
     },
     "execution_count": 166,
     "metadata": {},
     "output_type": "execute_result"
    }
   ],
   "source": [
    "dataTrain['textos'].str.len().describe()"
   ]
  },
  {
   "cell_type": "code",
   "execution_count": 167,
   "id": "404373c2",
   "metadata": {},
   "outputs": [
    {
     "data": {
      "text/plain": [
       "textos    0\n",
       "labels    0\n",
       "dtype: int64"
      ]
     },
     "execution_count": 167,
     "metadata": {},
     "output_type": "execute_result"
    }
   ],
   "source": [
    "dataTrain.isnull().sum()"
   ]
  },
  {
   "cell_type": "markdown",
   "id": "0a4b2bd5",
   "metadata": {},
   "source": [
    "## Tratamiento de Datos"
   ]
  },
  {
   "cell_type": "markdown",
   "id": "f2cac7d4",
   "metadata": {},
   "source": [
    "#### Descarga de las stopwords en español"
   ]
  },
  {
   "cell_type": "code",
   "execution_count": 168,
   "id": "b15edc8f",
   "metadata": {},
   "outputs": [
    {
     "name": "stderr",
     "output_type": "stream",
     "text": [
      "[nltk_data] Downloading package stopwords to\n",
      "[nltk_data]     C:\\Users\\josep\\AppData\\Roaming\\nltk_data...\n",
      "[nltk_data]   Package stopwords is already up-to-date!\n"
     ]
    },
    {
     "data": {
      "text/plain": [
       "True"
      ]
     },
     "execution_count": 168,
     "metadata": {},
     "output_type": "execute_result"
    }
   ],
   "source": [
    "import nltk\n",
    "\n",
    "nltk.download('stopwords')"
   ]
  },
  {
   "cell_type": "code",
   "execution_count": 169,
   "id": "3f1cd3a2",
   "metadata": {},
   "outputs": [
    {
     "name": "stdout",
     "output_type": "stream",
     "text": [
      "313\n",
      "['de', 'la', 'que', 'el', 'en', 'y', 'a', 'los', 'del', 'se', 'las', 'por', 'un', 'para', 'con', 'no', 'una', 'su', 'al', 'lo', 'como', 'más', 'pero', 'sus', 'le', 'ya', 'o', 'este', 'sí', 'porque', 'esta', 'entre', 'cuando', 'muy', 'sin', 'sobre', 'también', 'me', 'hasta', 'hay', 'donde', 'quien', 'desde', 'todo', 'nos', 'durante', 'todos', 'uno', 'les', 'ni', 'contra', 'otros', 'ese', 'eso', 'ante', 'ellos', 'e', 'esto', 'mí', 'antes', 'algunos', 'qué', 'unos', 'yo', 'otro', 'otras', 'otra', 'él', 'tanto', 'esa', 'estos', 'mucho', 'quienes', 'nada', 'muchos', 'cual', 'poco', 'ella', 'estar', 'estas', 'algunas', 'algo', 'nosotros', 'mi', 'mis', 'tú', 'te', 'ti', 'tu', 'tus', 'ellas', 'nosotras', 'vosotros', 'vosotras', 'os', 'mío', 'mía', 'míos', 'mías', 'tuyo', 'tuya', 'tuyos', 'tuyas', 'suyo', 'suya', 'suyos', 'suyas', 'nuestro', 'nuestra', 'nuestros', 'nuestras', 'vuestro', 'vuestra', 'vuestros', 'vuestras', 'esos', 'esas', 'estoy', 'estás', 'está', 'estamos', 'estáis', 'están', 'esté', 'estés', 'estemos', 'estéis', 'estén', 'estaré', 'estarás', 'estará', 'estaremos', 'estaréis', 'estarán', 'estaría', 'estarías', 'estaríamos', 'estaríais', 'estarían', 'estaba', 'estabas', 'estábamos', 'estabais', 'estaban', 'estuve', 'estuviste', 'estuvo', 'estuvimos', 'estuvisteis', 'estuvieron', 'estuviera', 'estuvieras', 'estuviéramos', 'estuvierais', 'estuvieran', 'estuviese', 'estuvieses', 'estuviésemos', 'estuvieseis', 'estuviesen', 'estando', 'estado', 'estada', 'estados', 'estadas', 'estad', 'he', 'has', 'ha', 'hemos', 'habéis', 'han', 'haya', 'hayas', 'hayamos', 'hayáis', 'hayan', 'habré', 'habrás', 'habrá', 'habremos', 'habréis', 'habrán', 'habría', 'habrías', 'habríamos', 'habríais', 'habrían', 'había', 'habías', 'habíamos', 'habíais', 'habían', 'hube', 'hubiste', 'hubo', 'hubimos', 'hubisteis', 'hubieron', 'hubiera', 'hubieras', 'hubiéramos', 'hubierais', 'hubieran', 'hubiese', 'hubieses', 'hubiésemos', 'hubieseis', 'hubiesen', 'habiendo', 'habido', 'habida', 'habidos', 'habidas', 'soy', 'eres', 'es', 'somos', 'sois', 'son', 'sea', 'seas', 'seamos', 'seáis', 'sean', 'seré', 'serás', 'será', 'seremos', 'seréis', 'serán', 'sería', 'serías', 'seríamos', 'seríais', 'serían', 'era', 'eras', 'éramos', 'erais', 'eran', 'fui', 'fuiste', 'fue', 'fuimos', 'fuisteis', 'fueron', 'fuera', 'fueras', 'fuéramos', 'fuerais', 'fueran', 'fuese', 'fueses', 'fuésemos', 'fueseis', 'fuesen', 'sintiendo', 'sentido', 'sentida', 'sentidos', 'sentidas', 'siente', 'sentid', 'tengo', 'tienes', 'tiene', 'tenemos', 'tenéis', 'tienen', 'tenga', 'tengas', 'tengamos', 'tengáis', 'tengan', 'tendré', 'tendrás', 'tendrá', 'tendremos', 'tendréis', 'tendrán', 'tendría', 'tendrías', 'tendríamos', 'tendríais', 'tendrían', 'tenía', 'tenías', 'teníamos', 'teníais', 'tenían', 'tuve', 'tuviste', 'tuvo', 'tuvimos', 'tuvisteis', 'tuvieron', 'tuviera', 'tuvieras', 'tuviéramos', 'tuvierais', 'tuvieran', 'tuviese', 'tuvieses', 'tuviésemos', 'tuvieseis', 'tuviesen', 'teniendo', 'tenido', 'tenida', 'tenidos', 'tenidas', 'tened']\n"
     ]
    }
   ],
   "source": [
    "from nltk.corpus import stopwords\n",
    "\n",
    "# Lista de stopwords en español\n",
    "stopwordsInSpanish = stopwords.words('spanish')\n",
    "\n",
    "print(len(stopwordsInSpanish))\n",
    "print(stopwordsInSpanish)"
   ]
  },
  {
   "cell_type": "markdown",
   "id": "8a529ee9",
   "metadata": {},
   "source": [
    "#### Limpieza y vectorización de datos"
   ]
  },
  {
   "cell_type": "code",
   "execution_count": 170,
   "id": "adfce306",
   "metadata": {},
   "outputs": [],
   "source": [
    "def limpiar_texto(texto: str) -> str:\n",
    "    texto = texto.lower()                               # Convertir a minusculas\n",
    "    texto = re.sub(r'[^a-záéíóúüñ\\s]', '', texto)       # Eliminar caracteres especiales y numeros\n",
    "    return texto\n",
    "\n",
    "dataTrain['texto_limpio'] = dataTrain['textos'].apply(limpiar_texto)"
   ]
  },
  {
   "cell_type": "code",
   "execution_count": 171,
   "id": "ef85b1ea",
   "metadata": {},
   "outputs": [
    {
     "name": "stdout",
     "output_type": "stream",
     "text": [
      "[('de', 22276), ('la', 12254), ('en', 9210), ('los', 8551), ('y', 8101), ('el', 6874), ('que', 5043), ('a', 4768), ('las', 4651), ('para', 3491), ('se', 2897), ('del', 2754), ('un', 2446), ('por', 2237), ('con', 2151), ('una', 2135), ('más', 1797), ('es', 1358), ('como', 1294), ('no', 1226), ('al', 1153), ('salud', 1108), ('pobreza', 1020), ('educación', 995), ('países', 963), ('entre', 962), ('atención', 900), ('o', 798), ('también', 767), ('estudiantes', 742), ('sobre', 674), ('su', 671), ('lo', 629), ('son', 604), ('ocde', 587), ('escuelas', 586), ('años', 560), ('servicios', 549), ('este', 533), ('ha', 523), ('nivel', 521), ('sistema', 508), ('sus', 500), ('sin', 499), ('niños', 481), ('personas', 457), ('pueden', 453), ('calidad', 447), ('han', 437), ('desarrollo', 431)]\n"
     ]
    }
   ],
   "source": [
    "texto_limpio = ' '.join(dataTrain['texto_limpio']).split()\n",
    "\n",
    "counter = Counter(texto_limpio) # Contar frecuencia\n",
    "print(counter.most_common(50))"
   ]
  },
  {
   "cell_type": "markdown",
   "id": "dec0fa5d",
   "metadata": {},
   "source": [
    "#### Adicionar y eliminar stopwords"
   ]
  },
  {
   "cell_type": "code",
   "execution_count": 172,
   "id": "dae00c0b",
   "metadata": {},
   "outputs": [
    {
     "name": "stdout",
     "output_type": "stream",
     "text": [
      "316\n",
      "['de', 'la', 'que', 'el', 'en', 'y', 'a', 'los', 'del', 'se', 'las', 'por', 'un', 'para', 'con', 'una', 'su', 'al', 'lo', 'como', 'más', 'pero', 'sus', 'le', 'ya', 'o', 'este', 'sí', 'porque', 'esta', 'entre', 'cuando', 'muy', 'sobre', 'también', 'me', 'hasta', 'hay', 'donde', 'quien', 'desde', 'todo', 'nos', 'durante', 'todos', 'uno', 'les', 'contra', 'otros', 'ese', 'eso', 'ante', 'ellos', 'e', 'esto', 'mí', 'antes', 'algunos', 'qué', 'unos', 'yo', 'otro', 'otras', 'otra', 'él', 'tanto', 'esa', 'estos', 'mucho', 'quienes', 'muchos', 'cual', 'poco', 'ella', 'estar', 'estas', 'algunas', 'algo', 'nosotros', 'mi', 'mis', 'tú', 'te', 'ti', 'tu', 'tus', 'ellas', 'nosotras', 'vosotros', 'vosotras', 'os', 'mío', 'mía', 'míos', 'mías', 'tuyo', 'tuya', 'tuyos', 'tuyas', 'suyo', 'suya', 'suyos', 'suyas', 'nuestro', 'nuestra', 'nuestros', 'nuestras', 'vuestro', 'vuestra', 'vuestros', 'vuestras', 'esos', 'esas', 'estoy', 'estás', 'está', 'estamos', 'estáis', 'están', 'esté', 'estés', 'estemos', 'estéis', 'estén', 'estaré', 'estarás', 'estará', 'estaremos', 'estaréis', 'estarán', 'estaría', 'estarías', 'estaríamos', 'estaríais', 'estarían', 'estaba', 'estabas', 'estábamos', 'estabais', 'estaban', 'estuve', 'estuviste', 'estuvo', 'estuvimos', 'estuvisteis', 'estuvieron', 'estuviera', 'estuvieras', 'estuviéramos', 'estuvierais', 'estuvieran', 'estuviese', 'estuvieses', 'estuviésemos', 'estuvieseis', 'estuviesen', 'estando', 'estado', 'estada', 'estados', 'estadas', 'estad', 'he', 'has', 'ha', 'hemos', 'habéis', 'han', 'haya', 'hayas', 'hayamos', 'hayáis', 'hayan', 'habré', 'habrás', 'habrá', 'habremos', 'habréis', 'habrán', 'habría', 'habrías', 'habríamos', 'habríais', 'habrían', 'habías', 'habíamos', 'habíais', 'habían', 'hube', 'hubiste', 'hubimos', 'hubisteis', 'hubieron', 'hubiera', 'hubieras', 'hubiéramos', 'hubierais', 'hubieran', 'hubiese', 'hubieses', 'hubiésemos', 'hubieseis', 'hubiesen', 'habiendo', 'habido', 'habida', 'habidos', 'habidas', 'soy', 'eres', 'es', 'somos', 'sois', 'son', 'sea', 'seas', 'seamos', 'seáis', 'sean', 'seré', 'serás', 'será', 'seremos', 'seréis', 'serán', 'sería', 'serías', 'seríamos', 'seríais', 'serían', 'era', 'eras', 'éramos', 'erais', 'eran', 'fui', 'fuiste', 'fue', 'fuimos', 'fuisteis', 'fueron', 'fuera', 'fueras', 'fuéramos', 'fuerais', 'fueran', 'fuese', 'fueses', 'fuésemos', 'fueseis', 'fuesen', 'sintiendo', 'sentido', 'sentida', 'sentidos', 'sentidas', 'siente', 'sentid', 'tengo', 'tienes', 'tiene', 'tenemos', 'tenéis', 'tienen', 'tenga', 'tengas', 'tengamos', 'tengáis', 'tengan', 'tendré', 'tendrás', 'tendrá', 'tendremos', 'tendréis', 'tendrán', 'tendría', 'tendrías', 'tendríamos', 'tendríais', 'tendrían', 'tenía', 'tenías', 'teníamos', 'teníais', 'tenían', 'tuve', 'tuviste', 'tuvo', 'tuvimos', 'tuvisteis', 'tuvieron', 'tuviera', 'tuvieras', 'tuviéramos', 'tuvierais', 'tuvieran', 'tuviese', 'tuvieses', 'tuviésemos', 'tuvieseis', 'tuviesen', 'teniendo', 'tenido', 'tenida', 'tenidos', 'tenidas', 'tened', 'y', 'e', 'además', 'también', 'incluso', 'más', 'pero', 'aunque', 'sino']\n"
     ]
    }
   ],
   "source": [
    "# Listas de palabras a conservar (eliminar de stopwords)\n",
    "palabras_de_Negacion = ['no', 'ni', 'nunca', 'jamás', 'tampoco',\n",
    "                        'sin', 'ningún', 'ninguna', 'ninguno', \n",
    "                        'ningunos', 'ningunas', 'nada', 'nadie',\n",
    "                        'hay    ', 'había', 'hubo', 'falta', 'faltan',\n",
    "                        'faltar', 'carecer', 'carecen', 'carencia', \n",
    "                        'carencias', 'escasez', 'ausencia', 'inaccesible', 'inaccesibilidad']\n",
    "\n",
    "palabras_de_poder = ['puedo', 'puede', 'pueden', 'podemos', 'podría', 'podrían']\n",
    "\n",
    "# Listas de palabras a agregar (adicionar a stopwords)\n",
    "palabras_conectoras = ['y', 'e', 'además', 'también', 'incluso', \n",
    "                       'más', 'pero', 'aunque', 'sino']\n",
    "\n",
    "\n",
    "stopwordsInSpanish = [w for w in stopwordsInSpanish if w not in palabras_de_Negacion and w not in palabras_de_poder]\n",
    "stopwordsInSpanish.extend(palabras_conectoras)\n",
    "\n",
    "print(len(stopwordsInSpanish))\n",
    "print(stopwordsInSpanish)"
   ]
  },
  {
   "cell_type": "code",
   "execution_count": 173,
   "id": "01c05087",
   "metadata": {},
   "outputs": [],
   "source": [
    "def limpiar_stopword(w):\n",
    "    return re.sub(r'[^a-záéíóúüñ\\s]', '', w.lower())\n",
    "\n",
    "stopwordsInSpanish = [limpiar_texto(w) for w in stopwordsInSpanish]\n",
    "\n",
    "vectorizer = TfidfVectorizer(stop_words = stopwordsInSpanish, max_features=5000)\n",
    "X = vectorizer.fit_transform(dataTrain['texto_limpio'])\n",
    "y = dataTrain['labels']"
   ]
  },
  {
   "cell_type": "markdown",
   "id": "79fd1d0e",
   "metadata": {},
   "source": [
    "#### Evaluación de resultados"
   ]
  },
  {
   "cell_type": "code",
   "execution_count": 174,
   "id": "7eef2aa7",
   "metadata": {},
   "outputs": [
    {
     "name": "stdout",
     "output_type": "stream",
     "text": [
      "F1-score promedio: 0.9626538895723741\n",
      "              precision    recall  f1-score   support\n",
      "\n",
      "           1       0.99      0.90      0.94       101\n",
      "           3       0.95      0.97      0.96       179\n",
      "           4       0.96      0.99      0.97       205\n",
      "\n",
      "    accuracy                           0.96       485\n",
      "   macro avg       0.97      0.95      0.96       485\n",
      "weighted avg       0.96      0.96      0.96       485\n",
      "\n"
     ]
    }
   ],
   "source": [
    "X_train, X_val, y_train, y_val = train_test_split(X, y, test_size=0.2, random_state=42, stratify=y)\n",
    "\n",
    "clf = LogisticRegression(max_iter=1000)\n",
    "clf.fit(X_train, y_train)\n",
    "y_pred = clf.predict(X_val)\n",
    "\n",
    "print(\"F1-score promedio:\", f1_score(y_val, y_pred, average='weighted'))\n",
    "print(classification_report(y_val, y_pred))"
   ]
  },
  {
   "cell_type": "code",
   "execution_count": 175,
   "id": "95833757",
   "metadata": {},
   "outputs": [
    {
     "data": {
      "image/png": "[encoded data removed]",
      "text/plain": [
       "<Figure size 432x288 with 2 Axes>"
      ]
     },
     "metadata": {
      "needs_background": "light"
     },
     "output_type": "display_data"
    }
   ],
   "source": [
    "cm = confusion_matrix(y_val, y_pred, labels=clf.classes_)\n",
    "disp = ConfusionMatrixDisplay(confusion_matrix=cm, display_labels=clf.classes_)\n",
    "disp.plot(cmap='Blues')\n",
    "plt.title(\"Matriz de confusión\")\n",
    "plt.show()"
   ]
  }
 ],
 "metadata": {
  "kernelspec": {
   "display_name": "base",
   "language": "python",
   "name": "python3"
  },
  "language_info": {
   "codemirror_mode": {
    "name": "ipython",
    "version": 3
   },
   "file_extension": ".py",
   "mimetype": "text/x-python",
   "name": "python",
   "nbconvert_exporter": "python",
   "pygments_lexer": "ipython3",
   "version": "3.9.7"
  }
 },
 "nbformat": 4,
 "nbformat_minor": 5
}
