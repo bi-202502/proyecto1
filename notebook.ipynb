{
 "cells": [
  {
   "cell_type": "markdown",
   "id": "2c74c42d",
   "metadata": {},
   "source": [
    "# Proyecto 1: Analítica de textos"
   ]
  },
  {
   "cell_type": "markdown",
   "id": "6ac2dec6",
   "metadata": {},
   "source": [
    "## Miembros\n",
    "- Estudainte 3: Mariana Pineda Miranda - 202123330\n",
    "- Estudiante 2: Isaac David Bermúdez- 202014146\n",
    "- Estudiante 1: Joseph Linares Gutierrez - 202111887"
   ]
  },
  {
   "cell_type": "code",
   "execution_count": 108,
   "id": "852cf5b4",
   "metadata": {},
   "outputs": [],
   "source": [
    "import re\n",
    "\n",
    "import pandas as pd\n",
    "from collections import Counter\n",
    "\n",
    "import matplotlib.pyplot as plt\n",
    "import seaborn as sns\n",
    "\n",
    "from sklearn.model_selection import train_test_split\n",
    "from sklearn.feature_extraction.text import TfidfVectorizer\n",
    "from sklearn.linear_model import LogisticRegression\n",
    "from sklearn.metrics import f1_score, classification_report, roc_curve, auc\n",
    "from sklearn.naive_bayes import MultinomialNB\n",
    "from sklearn.metrics import accuracy_score, log_loss\n",
    "from sklearn.metrics import confusion_matrix, ConfusionMatrixDisplay\n",
    "from sklearn.preprocessing import label_binarize\n",
    "from sklearn.svm import LinearSVC\n",
    "from sklearn.calibration import CalibratedClassifierCV\n",
    "\n",
    "\n",
    "pd.set_option('display.max_columns', None)   # todas las columnas\n",
    "pd.set_option('display.width', None) "
   ]
  },
  {
   "cell_type": "markdown",
   "id": "0fb46986",
   "metadata": {},
   "source": [
    "## Perfilamiento y análisis de datos"
   ]
  },
  {
   "cell_type": "markdown",
   "id": "1644b777",
   "metadata": {},
   "source": [
    "### Carga de datos"
   ]
  },
  {
   "cell_type": "code",
   "execution_count": 109,
   "id": "22eb463b",
   "metadata": {},
   "outputs": [],
   "source": [
    "dataTrain = pd.read_csv(\"data/train.csv\")\n",
    "dataTest = pd.read_csv(\"data/test.csv\")"
   ]
  },
  {
   "cell_type": "code",
   "execution_count": 110,
   "id": "c38eade5",
   "metadata": {},
   "outputs": [
    {
     "name": "stdout",
     "output_type": "stream",
     "text": [
      "<class 'pandas.core.frame.DataFrame'>\n",
      "RangeIndex: 2424 entries, 0 to 2423\n",
      "Data columns (total 2 columns):\n",
      " #   Column  Non-Null Count  Dtype \n",
      "---  ------  --------------  ----- \n",
      " 0   textos  2424 non-null   object\n",
      " 1   labels  2424 non-null   int64 \n",
      "dtypes: int64(1), object(1)\n",
      "memory usage: 38.0+ KB\n"
     ]
    }
   ],
   "source": [
    "dataTrain.info()"
   ]
  },
  {
   "cell_type": "markdown",
   "id": "5857f5c4",
   "metadata": {},
   "source": [
    "### Conteo de elementos"
   ]
  },
  {
   "cell_type": "code",
   "execution_count": 111,
   "id": "12b58bf4",
   "metadata": {},
   "outputs": [
    {
     "data": {
      "text/plain": [
       "textos\n",
       "\"Aprendizaje\" y \"educación\" se consideran sinónimos de escolarización formal. Las organizaciones auxiliares, como las editoriales de educación, las juntas examinadoras y las organizaciones de formación de docentes, se consideran extensiones de los acuerdos establecidos por los gobiernos. Este marco de comprensión se ha vuelto cada vez más inadecuado.                                                                                                                                                                                                                                                                                                                                                                                                                       1\n",
       "El arrendamiento de grandes porciones de estas tierras consuetudinarias a propietarios privados afecta a la seguridad alimentaria y a todas las actividades de subsistencia de quienes antes dependían de estos recursos naturales. Los desposeídos se instalan entonces en zonas urbanas cercanas a la capital. El 21% de los participantes realizaba trabajo voluntario no remunerado en una iglesia u ONG. Sólo el 30% tenía un empleo asalariado regular, y la mayoría eran hombres. El 25% declaró tener una cuenta bancaria y el 25% dijo que había un banco cerca de su casa. Estas últimas consideraciones son muy importantes desde el punto de vista logístico a la hora de decidir si las intervenciones de protección social deben ser o no transferencias de efectivo.    1\n",
       "El gobierno australiano trabaja con las autoridades educativas gubernamentales y no gubernamentales estatales y territoriales para garantizar un alto nivel continuo de enseñanza y aprendizaje en las escuelas australianas. La mayor parte de la financiación pública de las universidades la proporciona el gobierno australiano, según las normas contenidas en la Ley de Apoyo a la Educación Superior de 2003. Los gobiernos estatales y territoriales pueden acreditar otras instituciones terciarias (a través de una autoridad de acreditación), pero las instituciones deben estar incluidas en el Marco de Cualificaciones de Australia. Regístrese antes de que puedan otorgar calificaciones a los estudiantes.                                                           1\n",
       "La asistencia a una escuela especial requiere una recomendación de una autoridad apropiada y el consentimiento de los padres. La Ley de Educación de 2005 hace hincapié en una mayor integración de los estudiantes con necesidades especiales en las escuelas ordinarias. Las escuelas preescolares y básicas son administradas por municipios, mientras que las escuelas secundarias son administradas por regiones.                                                                                                                                                                                                                                                                                                                                                                 1\n",
       "Estos permitirían a los países consolidar los programas existentes y ampliar el alcance y la cobertura del sistema. Dado que los pobres de las zonas rurales obtienen la mayor parte de sus ingresos de las actividades agrícolas, las políticas para facilitar el acceso de los pequeños productores a la tierra, los insumos agrícolas, las finanzas, los servicios de extensión y los mercados contribuirían a mejorar la seguridad alimentaria y reducir la pobreza. Tales políticas también promueven negocios no agrícolas y oportunidades de empleo.                                                                                                                                                                                                                            1\n",
       "                                                                                                                                                                                                                                                                                                                                                                                                                                                                                                                                                                                                                                                                                                                                                                                      ..\n",
       "Existe una tendencia a introducir una mayor responsabilidad por la calidad y la eficiencia en los sistemas de pago a los proveedores, lo que generalmente requiere una combinación de pago por servicio, pago por resultados y pagos capitados. La combinación óptima de estos sistemas, sin embargo, debe ser decidida por las autoridades por motivos prácticos. Se acogen con satisfacción las medidas adoptadas para equiparar los puntos de los pacientes ambulatorios y los grupos homogéneos de enfermedades (GHD), de modo que los tratamientos terapéuticamente equivalentes se recompensen por igual independientemente del entorno en el que se ofrezcan los servicios sanitarios.                                                                                          1\n",
       "Las enfermedades diarreicas, como la disentería, la fiebre tifoidea y otras enfermedades, son una de las causas de morbilidad. Una zona consiste en un círculo de 50 a 100 m de diámetro alrededor del manantial, dependiendo de su caudal. Sin embargo, en varios casos, la zona de protección no está bien definida e implementada y las fuentes de contaminación pueden estar presentes.                                                                                                                                                                                                                                                                                                                                                                                            1\n",
       "Sin embargo, gracias al impresionante crecimiento de varios países emergentes de la región, la incidencia de la pobreza se ha reducido a más de la mitad, dejando a menos del 20 por ciento de la población en la pobreza extrema en 2011. La población mundial en general vive en la pobreza extrema ha disminuido en aproximadamente mil millones de personas entre 1990 y 2011. Asia y el Pacífico ha liderado el éxito mundial en la reducción de la pobreza en las últimas dos décadas. En otras palabras, la población que vive en la pobreza extrema en la región se redujo de alrededor de 1600 millones en 1990 a 700 millones en 2011, a pesar de un crecimiento demográfico general de aproximadamente 900 millones en el mismo período.                                    1\n",
       "Los beneficios potenciales del aprendizaje contextualizado y la integración de académicos y CTE son ampliamente reconocidos y el enfoque integrado se usa ampliamente en los programas de CTE. Una serie de instrumentos de política están diseñados para garantizar sólidas habilidades académicas entre todos los estudiantes, como la Evaluación de conocimientos y habilidades de Texas. Los datos se utilizan para monitorear el desempeño entre diferentes grupos de estudiantes y enfocar las intervenciones en las escuelas con un desempeño insatisfactorio.                                                                                                                                                                                                                  1\n",
       "Aunque existen programas para convertirse específicamente en profesor de lengua materna, o en profesor de SAS (también solo a través del programa de profesor de asignaturas), no están integrados en otros programas de profesorado (Utbildningsdepartementet (Ministerio de Educación e Investigación), 2018,193]). En 2016, el Gobierno creó un comité especial para investigar este asunto. El informe del Comité incluía varias propuestas sobre la forma en que el SAS, la lengua materna y los conocimientos lingüísticos podrían tener una mayor presencia en los programas de formación del profesorado.                                                                                                                                                                      1\n",
       "Name: count, Length: 2424, dtype: int64"
      ]
     },
     "execution_count": 111,
     "metadata": {},
     "output_type": "execute_result"
    }
   ],
   "source": [
    "dataTrain['textos'].value_counts()"
   ]
  },
  {
   "cell_type": "code",
   "execution_count": 112,
   "id": "0f6f2da4",
   "metadata": {},
   "outputs": [
    {
     "data": {
      "text/plain": [
       "labels\n",
       "4    1025\n",
       "3     894\n",
       "1     505\n",
       "Name: count, dtype: int64"
      ]
     },
     "execution_count": 112,
     "metadata": {},
     "output_type": "execute_result"
    }
   ],
   "source": [
    "dataTrain['labels'].value_counts()"
   ]
  },
  {
   "cell_type": "code",
   "execution_count": 113,
   "id": "3462febf",
   "metadata": {},
   "outputs": [
    {
     "data": {
      "text/plain": [
       "count    2424.000000\n",
       "mean      683.223185\n",
       "std       223.563695\n",
       "min       303.000000\n",
       "25%       513.000000\n",
       "50%       647.000000\n",
       "75%       809.250000\n",
       "max      1492.000000\n",
       "Name: textos, dtype: float64"
      ]
     },
     "execution_count": 113,
     "metadata": {},
     "output_type": "execute_result"
    }
   ],
   "source": [
    "dataTrain['textos'].str.len().describe()"
   ]
  },
  {
   "cell_type": "markdown",
   "id": "9c7d95e0",
   "metadata": {},
   "source": [
    "### Nulidad de elementos"
   ]
  },
  {
   "cell_type": "code",
   "execution_count": 114,
   "id": "404373c2",
   "metadata": {},
   "outputs": [
    {
     "data": {
      "text/plain": [
       "textos    0\n",
       "labels    0\n",
       "dtype: int64"
      ]
     },
     "execution_count": 114,
     "metadata": {},
     "output_type": "execute_result"
    }
   ],
   "source": [
    "dataTrain.isnull().sum()"
   ]
  },
  {
   "cell_type": "markdown",
   "id": "0a4b2bd5",
   "metadata": {},
   "source": [
    "## Tratamiento de Datos"
   ]
  },
  {
   "cell_type": "markdown",
   "id": "ccb08d2f",
   "metadata": {},
   "source": [
    "### Establecer StopWords (scapy)"
   ]
  },
  {
   "cell_type": "code",
   "execution_count": 115,
   "id": "d3f5a235",
   "metadata": {},
   "outputs": [
    {
     "name": "stdout",
     "output_type": "stream",
     "text": [
      "521\n",
      "{'buena', 'parece', 'él', 'ella', 'doce', 'eramos', 'señaló', 'usa', 'cuanto', 'nuestras', 'que', 'hacer', 'podriamos', 'suyo', 'cuánto', 'pueden', 'haces', 'fue', 'he', 'fuera', 'sus', 'cualquier', 'diferente', 'nuevo', 'alguna', 'el', 'o', 'propia', 'segundo', 'podemos', 'al', 'tener', 'saben', 'fuimos', 'bajo', 'mis', 'buenos', 'enfrente', 'habían', 'otros', 'esas', 'mias', 'vuestros', 'breve', 'nosotras', 'entre', 'verdadero', 'diferentes', 'ahi', 'esto', 'manifestó', 'menudo', 'otra', 'así', 'próximos', 'mío', 'hicieron', 'indicó', 'tienen', 'aquéllos', 'habia', 'haciendo', 'tuya', 'estan', 'nadie', 'considera', 'detrás', 'consideró', 'medio', 'fueron', 'sabes', 'paìs', 'estuvo', 'ultimo', 'despues', 'podrias', 'llevar', 'dicen', 'hecho', 'grandes', 'tengo', 'cuatro', 'tanto', 'qeu', 'desde', 'tendrán', 'donde', 'proximo', 'ser', 'podrá', 'somos', 'adelante', 'cierta', 'nuestro', 'estoy', 'durante', 'luego', 'nueva', 'tiene', 'tarde', 'lo', 'vuestras', 'once', 'vamos', 'dado', 'quedó', 'hago', 'afirmó', 'bien', 'tan', 'pudo', 'para', 'tal', 'nuestra', 'tenido', 'bastante', 'contigo', 'vuestra', 'mía', 'otras', 'últimas', 'éste', 'muchos', 'informó', 'otro', 'haber', 'cuanta', 'estaba', 'ocho', 'primeros', 'aquí', 'quiza', 'se', 'cuánta', 'les', 'usan', 'dicho', 'día', 'sido', 'solas', 'cómo', 'sea', 'quién', 'ya', 'consigue', 'ello', 'dan', 'cada', 'todavia', 'expresó', 'uno', 'junto', 'realizó', 'veces', 'ese', 'quizas', 'sino', 'propios', 'solo', 'ti', 'unas', 'ni', 'quizás', 'vaya', 'cuenta', 'éstas', 'mencionó', 'sin', 'os', 'tú', 'sigue', 'hizo', 'u', 'deben', 'yo', 'parte', 'eres', 'la', 'añadió', 'teneis', 'su', 'dias', 'tambien', 'nuevas', 'mios', 'siempre', 'por', 'no', 'quizá', 'tendrá', 'estais', 'nos', 'largo', 'hubo', 'ningún', 'uso', 'dia', 'esta', 'tercera', 'en', 'ambos', 'pero', 'ésta', 'enseguida', 'tuvo', 'poco', 'aquello', 'cuales', 'manera', 'mio', 'aquellas', 'ése', 'sobre', 'podria', 'ninguna', 'creo', 'aún', 'atras', 'tu', 'bueno', 'cuándo', 'dejó', 'mucha', 'habrá', 'muy', 'vosotras', 'misma', 'mismo', 'primer', 'algunas', 'estar', 'había', 'alrededor', 'delante', 'sabemos', 'mi', 'grande', 'repente', 'si', 'entonces', 'mal', 'sabeis', 'usamos', 'mia', 'cuántos', 'total', 'tras', 'mismas', 'comentó', 'allí', 'cinco', 'deprisa', 'salvo', 'ésos', 'consiguen', 'qué', 'vuestro', 'siguiente', 'excepto', 'final', 'cuantos', 'algún', 'quien', 'todas', 'informo', 'mayor', 'buen', 'más', 'quiere', 'mí', 'supuesto', 'va', 'hay', 'podeis', 'puedo', 'dos', 'dijeron', 'suyas', 'tus', 'seis', 'muchas', 'eso', 'cierto', 'contra', 'hacemos', 'dieron', 'existe', 'modo', 'primero', 'del', 'partir', 'porque', 'e', 'mas', 'ver', 'a', 'hablan', 'le', 'arriba', 'sería', 'estos', 'estará', 'llegó', 'aseguró', 'hoy', 'próximo', 'lado', 'agregó', 'aquéllas', 'temprano', 'ante', 'vez', 'hacen', 'verdadera', 'posible', 'encuentra', 'todavía', 'ellos', 'estamos', 'antes', 'dio', 'tuyos', 'embargo', 'tercero', 'sé', 'tenga', 'días', 'realizado', 'debe', 'aun', 'las', 'queremos', 'esa', 'nuevos', 'varios', 'alli', 'voy', 'ahora', 'míos', 'haceis', 'usted', 'ningunos', 'demás', 'ésa', 'serán', 'pesar', 'soy', 'nosotros', 'primera', 'estas', 'de', 'poder', 'ahí', 'tenía', 'claro', 'da', 'casi', 'tres', 'igual', 'sois', 'verdad', 'cual', 'detras', 'pocos', 'me', 'ademas', 'segun', 'dónde', 'unos', 'estados', 'último', 'como', 'despacio', 'poca', 'nuestros', 'mientras', 'asi', 'cuantas', 'podrían', 'este', 'pasada', 'además', 'diez', 'través', 'gran', 'y', 'ha', 'últimos', 'respecto', 'ciertas', 'será', 'solos', 'hace', 'pronto', 'apenas', 'demasiado', 'todo', 'los', 'estaban', 'te', 'usar', 'segunda', 'siete', 'mías', 'vosotros', 'eran', 'aquellos', 'mejor', 'según', 'aquella', 'conocer', 'dijo', 'ir', 'un', 'debajo', 'dentro', 'buenas', 'aquél', 'quiénes', 'éstos', 'anterior', 'lleva', 'con', 'aquélla', 'encima', 'consigues', 'van', 'mismos', 'fin', 'varias', 'mediante', 'sean', 'mucho', 'son', 'tuyo', 'dar', 'trata', 'conseguimos', 'toda', 'fui', 'dice', 'han', 'peor', 'podriais', 'están', 'debido', 'conmigo', 'cuáles', 'tenemos', 'aproximadamente', 'nunca', 'vais', 'existen', 'hacia', 'nueve', 'propias', 'propio', 'aunque', 'después', 'ésas', 'aquel', 'tampoco', 'eras', 'tuyas', 'última', 'solamente', 'ninguno', 'consigo', 'podría', 'algunos', 'suyos', 'acuerdo', 'nada', 'sí', 'sabe', 'incluso', 'algo', 'realizar', 'cuál', 'alguno', 'es', 'siendo', 'una', 'conseguir', 'pueda', 'sera', 'puede', 'pocas', 'cuántas', 'menos', 'ningunas', 'decir', 'pasado', 'saber', 'haya', 'sólo', 'usais', 'ciertos', 'habla', 'también', 'hacerlo', 'aqui', 'estado', 'hemos', 'quienes', 'está', 'hasta', 'explicó', 'usas', 'esos', 'sola', 'podrán', 'ellas', 'ustedes', 'podrian', 'pues', 'suya', 'cuando', 'poner', 'era', 'todos'}\n"
     ]
    }
   ],
   "source": [
    "from spacy.lang.es.stop_words import STOP_WORDS\n",
    "\n",
    "# Listas de palabras a agregar (adicionar a stopwords)\n",
    "palabras_conectoras = ['y', 'e', 'además', 'también', 'incluso', 'más', 'pero', 'aunque', 'sino']\n",
    "\n",
    "# Listas de palabras a conservar (eliminar de stopwords)\n",
    "palabras_de_Negacion = ['no', 'ni', 'nunca', 'jamás', 'tampoco',\n",
    "                        'sin', 'ningún', 'ninguna', 'ninguno', \n",
    "                        'ningunos', 'ningunas', 'nada', 'nadie',\n",
    "                        'haber', 'faltar', 'carecer','escasez', \n",
    "                        'ausencia', 'inaccesible', 'inaccesibilidad']\n",
    "\n",
    "palabras_de_poder = ['puedo', 'puede', 'pueden', 'podemos', 'podría', 'podrían']\n",
    "\n",
    "\n",
    "STOPWORDS = set(STOP_WORDS)\n",
    "STOPWORDS = {w.lower() for w in STOPWORDS}\n",
    "\n",
    "STOPWORDS.update(palabras_conectoras)\n",
    "STOPWORDS.difference_update(palabras_de_Negacion)\n",
    "STOPWORDS.difference_update(palabras_de_poder)\n",
    "\n",
    "print(len(STOP_WORDS))\n",
    "print(STOP_WORDS)"
   ]
  },
  {
   "cell_type": "markdown",
   "id": "0204c2c3",
   "metadata": {},
   "source": [
    "### Cargar el modelo NLP (scapy)"
   ]
  },
  {
   "cell_type": "code",
   "execution_count": 116,
   "id": "1af2ca95",
   "metadata": {},
   "outputs": [],
   "source": [
    "import spacy\n",
    "\n",
    "nlp = spacy.load('es_core_news_md', disable=['ner','textcat']) # no se utiliza NER ni textcat\n"
   ]
  },
  {
   "cell_type": "markdown",
   "id": "c9f0f678",
   "metadata": {},
   "source": [
    "### Lematización + Normalización de palabras - Minusculas y acentos "
   ]
  },
  {
   "cell_type": "code",
   "execution_count": 117,
   "id": "0f59f229",
   "metadata": {},
   "outputs": [],
   "source": [
    "def lematizarTexto(textos):\n",
    "    return [\" \".join(t.lemma_.lower() for t in doc if t.is_alpha)  #Claramente lo hizo Chat\n",
    "            for doc in nlp.pipe(textos, batch_size=128)]\n",
    "\n",
    "dataTrain['lemas'] = lematizarTexto(dataTrain['textos'].astype(str).tolist())"
   ]
  },
  {
   "cell_type": "code",
   "execution_count": 118,
   "id": "4c36ce88",
   "metadata": {},
   "outputs": [
    {
     "data": {
      "text/plain": [
       "0       aprendizaje y educación él considerar sinónimo...\n",
       "1       para el niño más pequeño bebé y niño pequeño e...\n",
       "2       además el formación de especialista en medicin...\n",
       "3       en el país de el ocde él tender a pasar de el ...\n",
       "4       este grupo él centrar en el persona que padece...\n",
       "                              ...                        \n",
       "2419    el tutoría de carrera estar diseñado para apoy...\n",
       "2420    fuente ministerio de educación el tasas intern...\n",
       "2421    y desde el pnud haber ser pionero en el puesta...\n",
       "2422    sin embargo este falla del mercado implicar qu...\n",
       "2423    aunque existir programa para convertir él espe...\n",
       "Name: lemas, Length: 2424, dtype: object"
      ]
     },
     "execution_count": 118,
     "metadata": {},
     "output_type": "execute_result"
    }
   ],
   "source": [
    "dataTrain['lemas']"
   ]
  },
  {
   "cell_type": "markdown",
   "id": "6a32f55c",
   "metadata": {},
   "source": [
    "### Vectorización con TF-IDF"
   ]
  },
  {
   "cell_type": "code",
   "execution_count": 119,
   "id": "d0a81639",
   "metadata": {},
   "outputs": [],
   "source": [
    "textoVectorizado = TfidfVectorizer(\n",
    "    stop_words=sorted(STOPWORDS),\n",
    "    ngram_range=(1,2),\n",
    "    min_df=2, \n",
    "    max_df=0.9,\n",
    "    lowercase=True,\n",
    "    strip_accents=None \n",
    ")\n",
    "\n",
    "X = textoVectorizado.fit_transform(dataTrain[\"lemas\"].fillna(\"\").astype(str))\n",
    "y = dataTrain[\"labels\"].to_numpy()"
   ]
  },
  {
   "cell_type": "markdown",
   "id": "ce1ab706",
   "metadata": {},
   "source": [
    "## Algoritmos"
   ]
  },
  {
   "cell_type": "markdown",
   "id": "79fd1d0e",
   "metadata": {},
   "source": [
    "### Logistic Regression - Joseph Linares"
   ]
  },
  {
   "cell_type": "code",
   "execution_count": 120,
   "id": "7eef2aa7",
   "metadata": {},
   "outputs": [
    {
     "name": "stdout",
     "output_type": "stream",
     "text": [
      "F1-score promedio: 0.9542597353431148\n",
      "              precision    recall  f1-score   support\n",
      "\n",
      "           1       0.97      0.88      0.92       101\n",
      "           3       0.94      0.96      0.95       179\n",
      "           4       0.96      0.99      0.97       205\n",
      "\n",
      "    accuracy                           0.95       485\n",
      "   macro avg       0.96      0.94      0.95       485\n",
      "weighted avg       0.95      0.95      0.95       485\n",
      "\n"
     ]
    }
   ],
   "source": [
    "X_train, X_val, y_train, y_val = train_test_split(X, y, test_size=0.2, random_state=42, stratify=y)\n",
    "\n",
    "clf = LogisticRegression(max_iter=1000)\n",
    "clf.fit(X_train, y_train)\n",
    "y_pred = clf.predict(X_val)\n",
    "\n",
    "print(\"F1-score promedio:\", f1_score(y_val, y_pred, average='weighted'))\n",
    "print(classification_report(y_val, y_pred))"
   ]
  },
  {
   "cell_type": "markdown",
   "id": "ff3702b7",
   "metadata": {},
   "source": [
    "### Naive Bayes - Mariana Pineda Miranda\n"
   ]
  },
  {
   "cell_type": "code",
   "execution_count": 121,
   "id": "b9f382a5",
   "metadata": {},
   "outputs": [
    {
     "name": "stdout",
     "output_type": "stream",
     "text": [
      "TEST DATA\n",
      "Accuracy: 0.9443298969072165\n",
      "\n",
      "Classification Report:\n",
      "               precision    recall  f1-score   support\n",
      "\n",
      "           1       0.99      0.79      0.88       112\n",
      "           3       0.93      0.98      0.96       168\n",
      "           4       0.94      1.00      0.96       205\n",
      "\n",
      "    accuracy                           0.94       485\n",
      "   macro avg       0.95      0.92      0.93       485\n",
      "weighted avg       0.95      0.94      0.94       485\n",
      "\n",
      "\n",
      "Confusion Matrix:\n",
      " [[ 89  11  12]\n",
      " [  1 165   2]\n",
      " [  0   1 204]]\n",
      "\n",
      "\n",
      "TRAIN DATA\n",
      "Accuracy: 0.9783393501805054\n",
      "\n",
      "Classification Report:\n",
      "               precision    recall  f1-score   support\n",
      "\n",
      "           1       1.00      0.91      0.95       393\n",
      "           3       0.98      0.99      0.99       726\n",
      "           4       0.97      1.00      0.98       820\n",
      "\n",
      "    accuracy                           0.98      1939\n",
      "   macro avg       0.98      0.97      0.97      1939\n",
      "weighted avg       0.98      0.98      0.98      1939\n",
      "\n",
      "\n",
      "Confusion Matrix:\n",
      " [[356  13  24]\n",
      " [  0 721   5]\n",
      " [  0   0 820]]\n"
     ]
    }
   ],
   "source": [
    "#Divido mis datos entre test y train\n",
    "X_train, X_test, y_train, y_test = train_test_split(X, y, test_size=0.2, random_state = 42)\n",
    "\n",
    "#Algoritmo de Naive Bayes\n",
    "naive_b = MultinomialNB()\n",
    "naive_b.fit(X_train, y_train)\n",
    "\n",
    "y_pred = naive_b.predict(X_test)\n",
    "y_pred_train = naive_b.predict(X_train)\n",
    "\n",
    "print(\"TEST DATA\")\n",
    "print(\"Accuracy:\", accuracy_score(y_test, y_pred))\n",
    "print(\"\\nClassification Report:\\n\", classification_report(y_test, y_pred))\n",
    "print(\"\\nConfusion Matrix:\\n\", confusion_matrix(y_test, y_pred))\n",
    "print(\"\\n\")\n",
    "\n",
    "print(\"TRAIN DATA\")\n",
    "print(\"Accuracy:\", accuracy_score(y_train, y_pred_train))\n",
    "print(\"\\nClassification Report:\\n\", classification_report(y_train, y_pred_train))\n",
    "print(\"\\nConfusion Matrix:\\n\", confusion_matrix(y_train, y_pred_train))\n",
    "\n",
    "\n"
   ]
  },
  {
   "cell_type": "markdown",
   "id": "37e59d4f",
   "metadata": {},
   "source": [
    "### Linear SVM - Mariana Pineda"
   ]
  },
  {
   "cell_type": "code",
   "execution_count": 122,
   "id": "216e871a",
   "metadata": {},
   "outputs": [
    {
     "name": "stdout",
     "output_type": "stream",
     "text": [
      "TEST DATA\n",
      "Accuracy: 0.9732\n",
      "F1-macro: 0.9711\n",
      "\n",
      "Classification Report:\n",
      "               precision    recall  f1-score   support\n",
      "\n",
      "           1       0.96      0.96      0.96       112\n",
      "           3       0.97      0.98      0.97       168\n",
      "           4       0.98      0.98      0.98       205\n",
      "\n",
      "    accuracy                           0.97       485\n",
      "   macro avg       0.97      0.97      0.97       485\n",
      "weighted avg       0.97      0.97      0.97       485\n",
      "\n",
      "\n",
      "Confusion Matrix:\n",
      " [[107   2   3]\n",
      " [  3 164   1]\n",
      " [  1   3 201]]\n",
      "\n",
      "\n",
      "TRAIN DATA\n",
      "Accuracy: 1.0\n",
      "\n",
      "Classification Report:\n",
      "               precision    recall  f1-score   support\n",
      "\n",
      "           1       1.00      1.00      1.00       393\n",
      "           3       1.00      1.00      1.00       726\n",
      "           4       1.00      1.00      1.00       820\n",
      "\n",
      "    accuracy                           1.00      1939\n",
      "   macro avg       1.00      1.00      1.00      1939\n",
      "weighted avg       1.00      1.00      1.00      1939\n",
      "\n",
      "\n",
      "Confusion Matrix:\n",
      " [[393   0   0]\n",
      " [  0 726   0]\n",
      " [  0   0 820]]\n"
     ]
    }
   ],
   "source": [
    "base = LinearSVC()\n",
    "clf = CalibratedClassifierCV(estimator=base, method=\"sigmoid\", cv=5)\n",
    "\n",
    "clf.fit(X_train, y_train)\n",
    "\n",
    "y_pred = clf.predict(X_test)\n",
    "y_pred_train = clf.predict(X_train)\n",
    "y_proba = clf.predict_proba(X_test)\n",
    "\n",
    "acc = accuracy_score(y_test, y_pred)\n",
    "f1m = f1_score(y_test, y_pred, average=\"macro\")\n",
    "\n",
    "print(\"TEST DATA\")\n",
    "print(f\"Accuracy: {acc:.4f}\")\n",
    "print(f\"F1-macro: {f1m:.4f}\")\n",
    "print(\"\\nClassification Report:\\n\", classification_report(y_test, y_pred))\n",
    "print(\"\\nConfusion Matrix:\\n\", confusion_matrix(y_test, y_pred))\n",
    "print(\"\\n\")\n",
    "\n",
    "print(\"TRAIN DATA\")\n",
    "print(\"Accuracy:\", accuracy_score(y_train, y_pred_train))\n",
    "print(\"\\nClassification Report:\\n\", classification_report(y_train, y_pred_train))\n",
    "print(\"\\nConfusion Matrix:\\n\", confusion_matrix(y_train, y_pred_train))"
   ]
  },
  {
   "cell_type": "markdown",
   "id": "98546b92",
   "metadata": {},
   "source": [
    "========================================================================\n",
    "# Esta toca pa cuando probemos los datos de Test\n",
    "========================================================================"
   ]
  },
  {
   "cell_type": "code",
   "execution_count": 105,
   "id": "95833757",
   "metadata": {},
   "outputs": [
    {
     "data": {
      "image/png": "[encoded data removed]",
      "text/plain": [
       "<Figure size 640x480 with 2 Axes>"
      ]
     },
     "metadata": {},
     "output_type": "display_data"
    }
   ],
   "source": [
    "cm = confusion_matrix(y_val, y_pred, labels=clf.classes_)\n",
    "disp = ConfusionMatrixDisplay(confusion_matrix=cm, display_labels=clf.classes_)\n",
    "disp.plot(cmap='Blues')\n",
    "plt.title(\"Matriz de confusión\")\n",
    "plt.show()"
   ]
  }
 ],
 "metadata": {
  "kernelspec": {
   "display_name": "es-nlp-3_9",
   "language": "python",
   "name": "python3"
  },
  "language_info": {
   "codemirror_mode": {
    "name": "ipython",
    "version": 3
   },
   "file_extension": ".py",
   "mimetype": "text/x-python",
   "name": "python",
   "nbconvert_exporter": "python",
   "pygments_lexer": "ipython3",
   "version": "3.9.7"
  }
 },
 "nbformat": 4,
 "nbformat_minor": 5
}
