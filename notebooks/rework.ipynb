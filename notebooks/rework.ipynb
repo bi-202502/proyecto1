{
 "cells": [
  {
   "cell_type": "code",
   "execution_count": 37,
   "id": "17266a59",
   "metadata": {},
   "outputs": [],
   "source": [
    "from pathlib import Path\n",
    "\n",
    "import re\n",
    "\n",
    "import numpy as np\n",
    "\n",
    "import pandas as pd\n",
    "\n",
    "import joblib\n",
    "\n",
    "import nltk\n",
    "from nltk.corpus import stopwords\n",
    "from nltk.tokenize import word_tokenize\n",
    "\n",
    "from sklearn.feature_extraction.text import TfidfVectorizer\n",
    "from sklearn.preprocessing import FunctionTransformer\n",
    "from sklearn.svm import SVC\n",
    "from sklearn.pipeline import Pipeline\n",
    "from sklearn.model_selection import train_test_split\n",
    "from sklearn.metrics import (\n",
    "    classification_report,\n",
    "    accuracy_score,\n",
    "    f1_score,\n",
    "    confusion_matrix,\n",
    ")\n",
    "\n",
    "import matplotlib.pyplot as plt"
   ]
  },
  {
   "cell_type": "code",
   "execution_count": 38,
   "id": "3da4cc80",
   "metadata": {},
   "outputs": [],
   "source": [
    "train = pd.read_csv(\"../data/train.csv\")"
   ]
  },
  {
   "cell_type": "code",
   "execution_count": 39,
   "id": "bfb90c81",
   "metadata": {},
   "outputs": [
    {
     "data": {
      "text/html": [
       "<div>\n",
       "<style scoped>\n",
       "    .dataframe tbody tr th:only-of-type {\n",
       "        vertical-align: middle;\n",
       "    }\n",
       "\n",
       "    .dataframe tbody tr th {\n",
       "        vertical-align: top;\n",
       "    }\n",
       "\n",
       "    .dataframe thead th {\n",
       "        text-align: right;\n",
       "    }\n",
       "</style>\n",
       "<table border=\"1\" class=\"dataframe\">\n",
       "  <thead>\n",
       "    <tr style=\"text-align: right;\">\n",
       "      <th></th>\n",
       "      <th>textos</th>\n",
       "      <th>labels</th>\n",
       "    </tr>\n",
       "  </thead>\n",
       "  <tbody>\n",
       "    <tr>\n",
       "      <th>0</th>\n",
       "      <td>\"Aprendizaje\" y \"educación\" se consideran sinó...</td>\n",
       "      <td>4</td>\n",
       "    </tr>\n",
       "    <tr>\n",
       "      <th>1</th>\n",
       "      <td>Para los niños más pequeños (bebés y niños peq...</td>\n",
       "      <td>4</td>\n",
       "    </tr>\n",
       "    <tr>\n",
       "      <th>2</th>\n",
       "      <td>Además, la formación de especialistas en medic...</td>\n",
       "      <td>3</td>\n",
       "    </tr>\n",
       "    <tr>\n",
       "      <th>3</th>\n",
       "      <td>En los países de la OCDE se tiende a pasar de ...</td>\n",
       "      <td>4</td>\n",
       "    </tr>\n",
       "    <tr>\n",
       "      <th>4</th>\n",
       "      <td>Este grupo se centró en las personas que padec...</td>\n",
       "      <td>3</td>\n",
       "    </tr>\n",
       "  </tbody>\n",
       "</table>\n",
       "</div>"
      ],
      "text/plain": [
       "                                              textos  labels\n",
       "0  \"Aprendizaje\" y \"educación\" se consideran sinó...       4\n",
       "1  Para los niños más pequeños (bebés y niños peq...       4\n",
       "2  Además, la formación de especialistas en medic...       3\n",
       "3  En los países de la OCDE se tiende a pasar de ...       4\n",
       "4  Este grupo se centró en las personas que padec...       3"
      ]
     },
     "execution_count": 39,
     "metadata": {},
     "output_type": "execute_result"
    }
   ],
   "source": [
    "train.head()"
   ]
  },
  {
   "cell_type": "code",
   "execution_count": 40,
   "id": "b597d4e7",
   "metadata": {},
   "outputs": [],
   "source": [
    "x = np.array(train[\"textos\"], dtype=np.dtypes.StringDType())"
   ]
  },
  {
   "cell_type": "code",
   "execution_count": 41,
   "id": "21d262fc",
   "metadata": {},
   "outputs": [],
   "source": [
    "y = np.array(train[\"labels\"], dtype=np.uint8)"
   ]
  },
  {
   "cell_type": "code",
   "execution_count": 42,
   "id": "ibwyu1309tn",
   "metadata": {},
   "outputs": [
    {
     "name": "stdout",
     "output_type": "stream",
     "text": [
      "📚 Spanish stopwords loaded: 313 words\n"
     ]
    },
    {
     "name": "stderr",
     "output_type": "stream",
     "text": [
      "[nltk_data] Downloading package punkt_tab to\n",
      "[nltk_data]     /home/orpheezt/nltk_data...\n",
      "[nltk_data]   Package punkt_tab is already up-to-date!\n",
      "[nltk_data] Downloading package stopwords to\n",
      "[nltk_data]     /home/orpheezt/nltk_data...\n",
      "[nltk_data]   Package stopwords is already up-to-date!\n"
     ]
    }
   ],
   "source": [
    "# NLTK_DATA env var\n",
    "\n",
    "nltk.download(\"punkt_tab\")\n",
    "nltk.download(\"stopwords\")\n",
    "\n",
    "spanish_stopwords = set(stopwords.words(\"spanish\"))\n",
    "print(f\"📚 Spanish stopwords loaded: {len(spanish_stopwords)} words\")"
   ]
  },
  {
   "cell_type": "code",
   "execution_count": 43,
   "id": "syhtn3ok2r",
   "metadata": {},
   "outputs": [],
   "source": [
    "SPECIAL_CHARS_PATTERN = re.compile(r\"[^\\w\\s]\")\n",
    "MULTIPLE_SPACES_PATTERN = re.compile(r\"\\s+\")\n",
    "\n",
    "\n",
    "def clean_text(x: np.ndarray) -> np.ndarray:\n",
    "    def clean_single_text(text: str) -> str:\n",
    "        text = text.lower().strip(\"\\\"'\")\n",
    "        text = SPECIAL_CHARS_PATTERN.sub(\" \", text)\n",
    "        text = MULTIPLE_SPACES_PATTERN.sub(\" \", text)\n",
    "\n",
    "        if not text:\n",
    "            return \"\"\n",
    "\n",
    "        tokens = word_tokenize(text, language=\"spanish\")\n",
    "        tokens = [\n",
    "            token\n",
    "            for token in tokens\n",
    "            if token not in spanish_stopwords and len(token) > 2\n",
    "        ]\n",
    "        return \" \".join(tokens)\n",
    "\n",
    "    vclean = np.vectorize(clean_single_text)\n",
    "    return vclean(x)"
   ]
  },
  {
   "cell_type": "code",
   "execution_count": 44,
   "id": "do3jp693imj",
   "metadata": {},
   "outputs": [
    {
     "name": "stdout",
     "output_type": "stream",
     "text": [
      "📊 Data shape: x=(2424,), Y=(2424,)\n",
      "📊 Classes in Y: [1 3 4]\n",
      "✅ Data split completed:\n",
      "   • Training: 1939 samples\n",
      "   • Validation: 485 samples\n",
      "   • Classes distribution: [  0 404   0 715 820]\n"
     ]
    }
   ],
   "source": [
    "print(f\"📊 Data shape: x={x.shape}, Y={y.shape}\")\n",
    "print(f\"📊 Classes in Y: {np.unique(y)}\")\n",
    "\n",
    "x_train, x_val, y_train, y_val = train_test_split(\n",
    "    x, y, test_size=0.2, stratify=y, random_state=42\n",
    ")\n",
    "\n",
    "print(\"✅ Data split completed:\")\n",
    "print(f\"   • Training: {x_train.shape[0]} samples\")\n",
    "print(f\"   • Validation: {x_val.shape[0]} samples\")\n",
    "print(f\"   • Classes distribution: {np.bincount(y_train)}\")"
   ]
  },
  {
   "cell_type": "code",
   "execution_count": 45,
   "id": "eh8jumjudmp",
   "metadata": {},
   "outputs": [],
   "source": [
    "m = Pipeline(\n",
    "    [\n",
    "        (\"text_cleaner\", FunctionTransformer(clean_text)),\n",
    "        (\n",
    "            \"tfidf_vectorizer\",\n",
    "            TfidfVectorizer(\n",
    "                max_features=5000,\n",
    "                ngram_range=(1, 2),  # Use unigrams and bigrams\n",
    "                min_df=2,  # Words that appear at least 2 times\n",
    "                max_df=0.95,  # Exclude very common words\n",
    "                strip_accents=\"unicode\",  # Normalize accents\n",
    "            ),\n",
    "        ),\n",
    "        (\n",
    "            \"svm_classifier\",\n",
    "            SVC(\n",
    "                kernel=\"linear\",\n",
    "                C=1.0,\n",
    "                random_state=42,\n",
    "                probability=True,  # To get probabilities\n",
    "            ),\n",
    "        ),\n",
    "    ]\n",
    ")"
   ]
  },
  {
   "cell_type": "code",
   "execution_count": 46,
   "id": "6hge1yb8pze",
   "metadata": {},
   "outputs": [
    {
     "name": "stdout",
     "output_type": "stream",
     "text": [
      "\n",
      "📊 Evaluating pipeline performance...\n",
      "🎯 Validation Results:\n",
      "   • Accuracy: 0.9588\n",
      "   • F1-Score (Macro): 0.9561\n",
      "   • F1-Score (Micro): 0.9588\n",
      "\n",
      "📋 Detailed Classification Report:\n",
      "============================================================\n",
      "              precision    recall  f1-score   support\n",
      "\n",
      "       ODS 1       0.96      0.93      0.94       101\n",
      "       ODS 3       0.95      0.96      0.95       179\n",
      "       ODS 4       0.97      0.98      0.97       205\n",
      "\n",
      "    accuracy                           0.96       485\n",
      "   macro avg       0.96      0.95      0.96       485\n",
      "weighted avg       0.96      0.96      0.96       485\n",
      "\n"
     ]
    }
   ],
   "source": [
    "m.fit(x_train, y_train)\n",
    "\n",
    "print(\"\\n📊 Evaluating pipeline performance...\")\n",
    "y_pred = m.predict(x_val)\n",
    "accuracy = accuracy_score(y_val, y_pred)\n",
    "f1_macro = f1_score(y_val, y_pred, average=\"macro\")\n",
    "f1_micro = f1_score(y_val, y_pred, average=\"micro\")\n",
    "\n",
    "print(\"🎯 Validation Results:\")\n",
    "print(f\"   • Accuracy: {accuracy:.4f}\")\n",
    "print(f\"   • F1-Score (Macro): {f1_macro:.4f}\")\n",
    "print(f\"   • F1-Score (Micro): {f1_micro:.4f}\")\n",
    "\n",
    "print(\"\\n📋 Detailed Classification Report:\")\n",
    "print(\"=\" * 60)\n",
    "report = classification_report(y_val, y_pred, target_names=[\"ODS 1\", \"ODS 3\", \"ODS 4\"])\n",
    "print(report)"
   ]
  },
  {
   "cell_type": "code",
   "execution_count": 47,
   "metadata": {},
   "outputs": [
    {
     "name": "stdout",
     "output_type": "stream",
     "text": [
      "\n",
      "🎯 Confusion Matrix:\n",
      "========================================\n"
     ]
    },
    {
     "data": {
      "image/png": "[encoded data removed]",
      "text/plain": [
       "<Figure size 800x600 with 2 Axes>"
      ]
     },
     "metadata": {},
     "output_type": "display_data"
    },
    {
     "name": "stdout",
     "output_type": "stream",
     "text": [
      "\n",
      "📊 Confusion Matrix Analysis:\n",
      "   • Total predictions: 485\n",
      "   • Correct predictions: 465 (95.9%)\n",
      "   • Misclassifications: 20 (4.1%)\n",
      "   • ODS 1 → ODS 3: 6 samples\n",
      "   • ODS 1 → ODS 4: 1 samples\n",
      "   • ODS 3 → ODS 1: 2 samples\n",
      "   • ODS 3 → ODS 4: 6 samples\n",
      "   • ODS 4 → ODS 1: 2 samples\n",
      "   • ODS 4 → ODS 3: 3 samples\n"
     ]
    }
   ],
   "source": [
    "print(\"\\n🎯 Confusion Matrix:\")\n",
    "print(\"=\" * 40)\n",
    "\n",
    "cm = confusion_matrix(y_val, y_pred)\n",
    "class_names = [\"ODS 1\", \"ODS 3\", \"ODS 4\"]\n",
    "\n",
    "fig, ax = plt.subplots(figsize=(8, 6))\n",
    "im = ax.imshow(cm, interpolation=\"nearest\", cmap=\"Blues\")\n",
    "\n",
    "cbar = ax.figure.colorbar(im, ax=ax)\n",
    "cbar.ax.set_ylabel(\"Number of Samples\", rotation=-90, va=\"bottom\")\n",
    "\n",
    "ax.set_xticks(np.arange(len(class_names)))\n",
    "ax.set_yticks(np.arange(len(class_names)))\n",
    "ax.set_xticklabels(class_names)\n",
    "ax.set_yticklabels(class_names)\n",
    "\n",
    "thresh = cm.max() / 2.0\n",
    "for i in range(len(class_names)):\n",
    "    for j in range(len(class_names)):\n",
    "        ax.text(\n",
    "            j,\n",
    "            i,\n",
    "            format(cm[i, j], \"d\"),\n",
    "            ha=\"center\",\n",
    "            va=\"center\",\n",
    "            color=\"white\" if cm[i, j] > thresh else \"black\",\n",
    "            fontsize=14,\n",
    "            fontweight=\"bold\",\n",
    "        )\n",
    "\n",
    "ax.set_title(\n",
    "    \"Confusion Matrix - SVM Text Classification\\nF1-Score (Macro): 0.9561\",\n",
    "    fontsize=14,\n",
    "    fontweight=\"bold\",\n",
    "    pad=20,\n",
    ")\n",
    "ax.set_xlabel(\"Predicted Labels\", fontsize=12)\n",
    "ax.set_ylabel(\"True Labels\", fontsize=12)\n",
    "\n",
    "plt.tight_layout()\n",
    "plt.show()\n",
    "\n",
    "print(\"\\n📊 Confusion Matrix Analysis:\")\n",
    "print(f\"   • Total predictions: {cm.sum()}\")\n",
    "print(\n",
    "    f\"   • Correct predictions: {np.trace(cm)} ({np.trace(cm) / cm.sum() * 100:.1f}%)\"\n",
    ")\n",
    "print(\n",
    "    f\"   • Misclassifications: {cm.sum() - np.trace(cm)} ({(cm.sum() - np.trace(cm)) / cm.sum() * 100:.1f}%)\"\n",
    ")\n",
    "\n",
    "for i, true_class in enumerate(class_names):\n",
    "    for j, pred_class in enumerate(class_names):\n",
    "        if i != j and cm[i, j] > 0:\n",
    "            print(f\"   • {true_class} → {pred_class}: {cm[i, j]} samples\")"
   ]
  },
  {
   "cell_type": "code",
   "execution_count": 48,
   "id": "1f0nghjbc1f",
   "metadata": {},
   "outputs": [
    {
     "name": "stdout",
     "output_type": "stream",
     "text": [
      "💾 Pipeline serialized successfully!\n",
      "   📁 Saved to: /home/orpheezt/university/proyecto1/data/saved_models/best_pipeline_svm.joblib\n",
      "   📊 Model type: SVM with preprocessing pipeline\n",
      "   🎯 Performance: 0.9561 F1-Score (Macro)\n",
      "\n",
      "🔍 Verifying saved pipeline...\n",
      "✅ Pipeline loaded and verified as sklearn Pipeline!\n",
      "\n",
      "🧪 Sample predictions:\n",
      "   Text 1: ODS 4 (confidence: 1.000)\n",
      "   Text 2: ODS 1 (confidence: 1.000)\n",
      "   Text 3: ODS 3 (confidence: 1.000)\n",
      "\n",
      "📋 Pipeline components:\n",
      "   1. text_cleaner: FunctionTransformer\n",
      "   2. tfidf_vectorizer: TfidfVectorizer\n",
      "   3. svm_classifier: SVC\n"
     ]
    }
   ],
   "source": [
    "MODELS_DIR = Path(\"../data/saved_models\")\n",
    "MODELS_DIR.mkdir(exist_ok=True)\n",
    "\n",
    "pipeline_path = MODELS_DIR / \"best_pipeline_svm.joblib\"\n",
    "joblib.dump(m, pipeline_path)\n",
    "\n",
    "print(\"💾 Pipeline serialized successfully!\")\n",
    "print(f\"   📁 Saved to: {pipeline_path.resolve()}\")\n",
    "print(\"   📊 Model type: SVM with preprocessing pipeline\")\n",
    "print(f\"   🎯 Performance: {f1_macro:.4f} F1-Score (Macro)\")\n",
    "\n",
    "print(\"\\n🔍 Verifying saved pipeline...\")\n",
    "loaded_pipeline = joblib.load(pipeline_path)\n",
    "\n",
    "match loaded_pipeline:\n",
    "    case Pipeline():\n",
    "        print(\"✅ Pipeline loaded and verified as sklearn Pipeline!\")\n",
    "\n",
    "        test_texts = np.array(\n",
    "            [\n",
    "                \"Los niños necesitan acceso a educación de calidad\",  # Should be ODS 4 (Education)\n",
    "                \"Es importante reducir la pobreza en las comunidades rurales\",  # Should be ODS 1 (Poverty)\n",
    "                \"Los servicios de salud deben ser accesibles para todos\",  # Should be ODS 3 (Health)\n",
    "            ],\n",
    "            dtype=np.dtypes.StringDType(),\n",
    "        )\n",
    "\n",
    "        test_predictions = loaded_pipeline.predict(test_texts)\n",
    "        test_probabilities = loaded_pipeline.predict_proba(test_texts)\n",
    "\n",
    "        print(\"\\n🧪 Sample predictions:\")\n",
    "        for i, (text, pred, probs) in enumerate(\n",
    "            zip(test_texts, test_predictions, test_probabilities)\n",
    "        ):\n",
    "            print(f\"   Text {i + 1}: ODS {pred} (confidence: {max(probs):.3f})\")\n",
    "\n",
    "        print(\"\\n📋 Pipeline components:\")\n",
    "        for i, (name, component) in enumerate(loaded_pipeline.named_steps.items()):\n",
    "            print(f\"   {i + 1}. {name}: {type(component).__name__}\")\n",
    "    case _:\n",
    "        print(\"❌ Error: Loaded object is not a sklearn Pipeline!\")\n",
    "        print(f\"   Type found: {type(loaded_pipeline)}\")"
   ]
  }
 ],
 "metadata": {
  "kernelspec": {
   "display_name": "proyecto1-bi",
   "language": "python",
   "name": "python3"
  },
  "language_info": {
   "codemirror_mode": {
    "name": "ipython",
    "version": 3
   },
   "file_extension": ".py",
   "mimetype": "text/x-python",
   "name": "python",
   "nbconvert_exporter": "python",
   "pygments_lexer": "ipython3",
   "version": "3.13.7"
  }
 },
 "nbformat": 4,
 "nbformat_minor": 4
}
